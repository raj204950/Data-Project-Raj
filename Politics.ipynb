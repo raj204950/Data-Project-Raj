{
 "cells": [
  {
   "cell_type": "code",
   "execution_count": 1,
   "id": "d0c2ad4b",
   "metadata": {
    "scrolled": true
   },
   "outputs": [
    {
     "name": "stderr",
     "output_type": "stream",
     "text": [
      "D:\\Python\\Anaconda\\lib\\site-packages\\scipy\\__init__.py:146: UserWarning: A NumPy version >=1.16.5 and <1.23.0 is required for this version of SciPy (detected version 1.25.1\n",
      "  warnings.warn(f\"A NumPy version >={np_minversion} and <{np_maxversion}\"\n",
      "[nltk_data] Downloading package stopwords to\n",
      "[nltk_data]     C:\\Users\\Admin\\AppData\\Roaming\\nltk_data...\n",
      "[nltk_data]   Package stopwords is already up-to-date!\n"
     ]
    }
   ],
   "source": [
    "import pandas as pd\n",
    "import numpy as np\n",
    "import os\n",
    "import re\n",
    "from datetime import datetime\n",
    "import plotly.express as px\n",
    "import plotly.graph_objs as go\n",
    "import nltk\n",
    "from nltk.corpus import stopwords\n",
    "nltk.download('stopwords')\n",
    "from better_profanity import profanity\n",
    "from textblob import TextBlob\n",
    "import warnings\n",
    "warnings.filterwarnings('ignore')\n",
    "import seaborn as sns"
   ]
  },
  {
   "cell_type": "code",
   "execution_count": 2,
   "id": "02b9e56d",
   "metadata": {},
   "outputs": [],
   "source": [
    "directory = '/kaggle/input'\n",
    "\n",
    "for dirname, _, filenames in os.walk(directory):\n",
    "    for filename in filenames:\n",
    "        tweets_data = os.path.join(dirname, filename)\n",
    "        print(tweets_data)"
   ]
  },
  {
   "cell_type": "code",
   "execution_count": 3,
   "id": "93811fd1",
   "metadata": {},
   "outputs": [
    {
     "data": {
      "text/html": [
       "<div>\n",
       "<style scoped>\n",
       "    .dataframe tbody tr th:only-of-type {\n",
       "        vertical-align: middle;\n",
       "    }\n",
       "\n",
       "    .dataframe tbody tr th {\n",
       "        vertical-align: top;\n",
       "    }\n",
       "\n",
       "    .dataframe thead th {\n",
       "        text-align: right;\n",
       "    }\n",
       "</style>\n",
       "<table border=\"1\" class=\"dataframe\">\n",
       "  <thead>\n",
       "    <tr style=\"text-align: right;\">\n",
       "      <th></th>\n",
       "      <th>Unnamed: 0</th>\n",
       "      <th>Date</th>\n",
       "      <th>User</th>\n",
       "      <th>Tweet</th>\n",
       "      <th>Likes</th>\n",
       "      <th>Retweets</th>\n",
       "    </tr>\n",
       "  </thead>\n",
       "  <tbody>\n",
       "    <tr>\n",
       "      <th>0</th>\n",
       "      <td>0</td>\n",
       "      <td>2023-03-29 15:42:36+00:00</td>\n",
       "      <td>AnandPatni8</td>\n",
       "      <td>@vinodkapri @RahulGandhi Respected Indian Citi...</td>\n",
       "      <td>0.0</td>\n",
       "      <td>0.0</td>\n",
       "    </tr>\n",
       "    <tr>\n",
       "      <th>1</th>\n",
       "      <td>1</td>\n",
       "      <td>2023-03-29 15:42:05+00:00</td>\n",
       "      <td>dhinamum</td>\n",
       "      <td>*Respected Indian Citizens,* Namaskaar I Am Th...</td>\n",
       "      <td>0.0</td>\n",
       "      <td>0.0</td>\n",
       "    </tr>\n",
       "    <tr>\n",
       "      <th>2</th>\n",
       "      <td>2</td>\n",
       "      <td>2023-03-29 15:34:29+00:00</td>\n",
       "      <td>PrincetonCGI</td>\n",
       "      <td>1/n-Meet Filmmaker Prakash Jha in New Jersey t...</td>\n",
       "      <td>0.0</td>\n",
       "      <td>0.0</td>\n",
       "    </tr>\n",
       "    <tr>\n",
       "      <th>3</th>\n",
       "      <td>3</td>\n",
       "      <td>2023-03-29 15:31:43+00:00</td>\n",
       "      <td>RishiJoeSanu</td>\n",
       "      <td>@MrinalWahal Why would politicians stop using ...</td>\n",
       "      <td>0.0</td>\n",
       "      <td>0.0</td>\n",
       "    </tr>\n",
       "    <tr>\n",
       "      <th>4</th>\n",
       "      <td>4</td>\n",
       "      <td>2023-03-29 15:26:48+00:00</td>\n",
       "      <td>itweetsensee</td>\n",
       "      <td>@annamalai_k @narendramodi A state level presi...</td>\n",
       "      <td>0.0</td>\n",
       "      <td>0.0</td>\n",
       "    </tr>\n",
       "    <tr>\n",
       "      <th>...</th>\n",
       "      <td>...</td>\n",
       "      <td>...</td>\n",
       "      <td>...</td>\n",
       "      <td>...</td>\n",
       "      <td>...</td>\n",
       "      <td>...</td>\n",
       "    </tr>\n",
       "    <tr>\n",
       "      <th>49996</th>\n",
       "      <td>49995</td>\n",
       "      <td>2022-10-15 11:00:52+00:00</td>\n",
       "      <td>vinoims</td>\n",
       "      <td>@kaushikcbasu Cong ruled for 60 +yrs at center...</td>\n",
       "      <td>0.0</td>\n",
       "      <td>0.0</td>\n",
       "    </tr>\n",
       "    <tr>\n",
       "      <th>49997</th>\n",
       "      <td>49996</td>\n",
       "      <td>2022-10-15 10:56:51+00:00</td>\n",
       "      <td>Dan_T129</td>\n",
       "      <td>@ARYSabirShakir @OfficialDGISPR It's indian lo...</td>\n",
       "      <td>0.0</td>\n",
       "      <td>0.0</td>\n",
       "    </tr>\n",
       "    <tr>\n",
       "      <th>49998</th>\n",
       "      <td>49997</td>\n",
       "      <td>2022-10-15 10:50:52+00:00</td>\n",
       "      <td>shivashan_</td>\n",
       "      <td>@Schandillia A true leader puts the team in fr...</td>\n",
       "      <td>4.0</td>\n",
       "      <td>1.0</td>\n",
       "    </tr>\n",
       "    <tr>\n",
       "      <th>49999</th>\n",
       "      <td>49998</td>\n",
       "      <td>2022-10-15 10:41:17+00:00</td>\n",
       "      <td>SUNILKU74204938</td>\n",
       "      <td>Now' Rahul Gandhi is Mahanayak of\\nINDIA. Rega...</td>\n",
       "      <td>0.0</td>\n",
       "      <td>0.0</td>\n",
       "    </tr>\n",
       "    <tr>\n",
       "      <th>50000</th>\n",
       "      <td>49999</td>\n",
       "      <td>2022-10-15 10:28:05+00:00</td>\n",
       "      <td>Amateure_trader</td>\n",
       "      <td>@MajorPoonia New low in indian politics. If yo...</td>\n",
       "      <td>0.0</td>\n",
       "      <td>0.0</td>\n",
       "    </tr>\n",
       "  </tbody>\n",
       "</table>\n",
       "<p>50001 rows × 6 columns</p>\n",
       "</div>"
      ],
      "text/plain": [
       "      Unnamed: 0                       Date             User  \\\n",
       "0              0  2023-03-29 15:42:36+00:00      AnandPatni8   \n",
       "1              1  2023-03-29 15:42:05+00:00         dhinamum   \n",
       "2              2  2023-03-29 15:34:29+00:00     PrincetonCGI   \n",
       "3              3  2023-03-29 15:31:43+00:00     RishiJoeSanu   \n",
       "4              4  2023-03-29 15:26:48+00:00     itweetsensee   \n",
       "...          ...                        ...              ...   \n",
       "49996      49995  2022-10-15 11:00:52+00:00          vinoims   \n",
       "49997      49996  2022-10-15 10:56:51+00:00         Dan_T129   \n",
       "49998      49997  2022-10-15 10:50:52+00:00       shivashan_   \n",
       "49999      49998  2022-10-15 10:41:17+00:00  SUNILKU74204938   \n",
       "50000      49999  2022-10-15 10:28:05+00:00  Amateure_trader   \n",
       "\n",
       "                                                   Tweet  Likes  Retweets  \n",
       "0      @vinodkapri @RahulGandhi Respected Indian Citi...    0.0       0.0  \n",
       "1      *Respected Indian Citizens,* Namaskaar I Am Th...    0.0       0.0  \n",
       "2      1/n-Meet Filmmaker Prakash Jha in New Jersey t...    0.0       0.0  \n",
       "3      @MrinalWahal Why would politicians stop using ...    0.0       0.0  \n",
       "4      @annamalai_k @narendramodi A state level presi...    0.0       0.0  \n",
       "...                                                  ...    ...       ...  \n",
       "49996  @kaushikcbasu Cong ruled for 60 +yrs at center...    0.0       0.0  \n",
       "49997  @ARYSabirShakir @OfficialDGISPR It's indian lo...    0.0       0.0  \n",
       "49998  @Schandillia A true leader puts the team in fr...    4.0       1.0  \n",
       "49999  Now' Rahul Gandhi is Mahanayak of\\nINDIA. Rega...    0.0       0.0  \n",
       "50000  @MajorPoonia New low in indian politics. If yo...    0.0       0.0  \n",
       "\n",
       "[50001 rows x 6 columns]"
      ]
     },
     "execution_count": 3,
     "metadata": {},
     "output_type": "execute_result"
    }
   ],
   "source": [
    "poli_data=pd.read_csv(\"C:/Users/Admin/Desktop/Untitled Folder 1/Untitled Folder/Tweets/politics/tweets.csv\")\n",
    "poli_data"
   ]
  },
  {
   "cell_type": "code",
   "execution_count": 4,
   "id": "43ba45f3",
   "metadata": {},
   "outputs": [
    {
     "data": {
      "text/plain": [
       "(50001, 6)"
      ]
     },
     "execution_count": 4,
     "metadata": {},
     "output_type": "execute_result"
    }
   ],
   "source": [
    "poli_data.shape"
   ]
  },
  {
   "cell_type": "code",
   "execution_count": 5,
   "id": "72b4e5b8",
   "metadata": {},
   "outputs": [
    {
     "data": {
      "text/plain": [
       "0"
      ]
     },
     "execution_count": 5,
     "metadata": {},
     "output_type": "execute_result"
    }
   ],
   "source": [
    "poli_data.duplicated().sum()"
   ]
  },
  {
   "cell_type": "code",
   "execution_count": 6,
   "id": "5f147dde",
   "metadata": {},
   "outputs": [],
   "source": [
    "poli_data=poli_data.drop_duplicates()"
   ]
  },
  {
   "cell_type": "code",
   "execution_count": 7,
   "id": "7ccb1dba",
   "metadata": {},
   "outputs": [
    {
     "data": {
      "text/plain": [
       "Unnamed: 0    0\n",
       "Date          0\n",
       "User          0\n",
       "Tweet         1\n",
       "Likes         2\n",
       "Retweets      2\n",
       "dtype: int64"
      ]
     },
     "execution_count": 7,
     "metadata": {},
     "output_type": "execute_result"
    }
   ],
   "source": [
    "poli_data.isnull().sum()"
   ]
  },
  {
   "cell_type": "code",
   "execution_count": 8,
   "id": "93d15db6",
   "metadata": {},
   "outputs": [],
   "source": [
    "poli_data.dropna(inplace=True)"
   ]
  },
  {
   "cell_type": "code",
   "execution_count": 9,
   "id": "4b64a087",
   "metadata": {},
   "outputs": [
    {
     "data": {
      "text/plain": [
       "0"
      ]
     },
     "execution_count": 9,
     "metadata": {},
     "output_type": "execute_result"
    }
   ],
   "source": [
    "poli_data.duplicated().sum()"
   ]
  },
  {
   "cell_type": "code",
   "execution_count": 10,
   "id": "ee33da55",
   "metadata": {},
   "outputs": [
    {
     "name": "stdout",
     "output_type": "stream",
     "text": [
      "<class 'pandas.core.frame.DataFrame'>\n",
      "Int64Index: 49999 entries, 0 to 50000\n",
      "Data columns (total 6 columns):\n",
      " #   Column      Non-Null Count  Dtype  \n",
      "---  ------      --------------  -----  \n",
      " 0   Unnamed: 0  49999 non-null  object \n",
      " 1   Date        49999 non-null  object \n",
      " 2   User        49999 non-null  object \n",
      " 3   Tweet       49999 non-null  object \n",
      " 4   Likes       49999 non-null  float64\n",
      " 5   Retweets    49999 non-null  float64\n",
      "dtypes: float64(2), object(4)\n",
      "memory usage: 2.7+ MB\n"
     ]
    }
   ],
   "source": [
    "poli_data.info()"
   ]
  },
  {
   "cell_type": "code",
   "execution_count": 11,
   "id": "6aa86ac7",
   "metadata": {},
   "outputs": [
    {
     "data": {
      "text/html": [
       "<div>\n",
       "<style scoped>\n",
       "    .dataframe tbody tr th:only-of-type {\n",
       "        vertical-align: middle;\n",
       "    }\n",
       "\n",
       "    .dataframe tbody tr th {\n",
       "        vertical-align: top;\n",
       "    }\n",
       "\n",
       "    .dataframe thead th {\n",
       "        text-align: right;\n",
       "    }\n",
       "</style>\n",
       "<table border=\"1\" class=\"dataframe\">\n",
       "  <thead>\n",
       "    <tr style=\"text-align: right;\">\n",
       "      <th></th>\n",
       "      <th>Likes</th>\n",
       "      <th>Retweets</th>\n",
       "    </tr>\n",
       "  </thead>\n",
       "  <tbody>\n",
       "    <tr>\n",
       "      <th>count</th>\n",
       "      <td>49999.000000</td>\n",
       "      <td>49999.000000</td>\n",
       "    </tr>\n",
       "    <tr>\n",
       "      <th>mean</th>\n",
       "      <td>16.213384</td>\n",
       "      <td>3.594672</td>\n",
       "    </tr>\n",
       "    <tr>\n",
       "      <th>std</th>\n",
       "      <td>243.116572</td>\n",
       "      <td>53.452615</td>\n",
       "    </tr>\n",
       "    <tr>\n",
       "      <th>min</th>\n",
       "      <td>0.000000</td>\n",
       "      <td>0.000000</td>\n",
       "    </tr>\n",
       "    <tr>\n",
       "      <th>25%</th>\n",
       "      <td>0.000000</td>\n",
       "      <td>0.000000</td>\n",
       "    </tr>\n",
       "    <tr>\n",
       "      <th>50%</th>\n",
       "      <td>0.000000</td>\n",
       "      <td>0.000000</td>\n",
       "    </tr>\n",
       "    <tr>\n",
       "      <th>75%</th>\n",
       "      <td>2.000000</td>\n",
       "      <td>0.000000</td>\n",
       "    </tr>\n",
       "    <tr>\n",
       "      <th>max</th>\n",
       "      <td>20716.000000</td>\n",
       "      <td>6551.000000</td>\n",
       "    </tr>\n",
       "  </tbody>\n",
       "</table>\n",
       "</div>"
      ],
      "text/plain": [
       "              Likes      Retweets\n",
       "count  49999.000000  49999.000000\n",
       "mean      16.213384      3.594672\n",
       "std      243.116572     53.452615\n",
       "min        0.000000      0.000000\n",
       "25%        0.000000      0.000000\n",
       "50%        0.000000      0.000000\n",
       "75%        2.000000      0.000000\n",
       "max    20716.000000   6551.000000"
      ]
     },
     "execution_count": 11,
     "metadata": {},
     "output_type": "execute_result"
    }
   ],
   "source": [
    "poli_data.describe()"
   ]
  },
  {
   "cell_type": "code",
   "execution_count": 12,
   "id": "8361e3ac",
   "metadata": {},
   "outputs": [],
   "source": [
    "poli_data_sorted=poli_data.sort_values(by='Likes',ascending=False)"
   ]
  },
  {
   "cell_type": "code",
   "execution_count": 13,
   "id": "45f4368c",
   "metadata": {},
   "outputs": [
    {
     "data": {
      "text/html": [
       "<div>\n",
       "<style scoped>\n",
       "    .dataframe tbody tr th:only-of-type {\n",
       "        vertical-align: middle;\n",
       "    }\n",
       "\n",
       "    .dataframe tbody tr th {\n",
       "        vertical-align: top;\n",
       "    }\n",
       "\n",
       "    .dataframe thead th {\n",
       "        text-align: right;\n",
       "    }\n",
       "</style>\n",
       "<table border=\"1\" class=\"dataframe\">\n",
       "  <thead>\n",
       "    <tr style=\"text-align: right;\">\n",
       "      <th></th>\n",
       "      <th>Unnamed: 0</th>\n",
       "      <th>Date</th>\n",
       "      <th>User</th>\n",
       "      <th>Tweet</th>\n",
       "      <th>Likes</th>\n",
       "      <th>Retweets</th>\n",
       "    </tr>\n",
       "  </thead>\n",
       "  <tbody>\n",
       "    <tr>\n",
       "      <th>25620</th>\n",
       "      <td>25619</td>\n",
       "      <td>2023-01-02 04:42:59+00:00</td>\n",
       "      <td>RahulGandhi</td>\n",
       "      <td>‘Hey Ram’, Khadi, Films and how only India, no...</td>\n",
       "      <td>20716.0</td>\n",
       "      <td>6551.0</td>\n",
       "    </tr>\n",
       "    <tr>\n",
       "      <th>45027</th>\n",
       "      <td>45026</td>\n",
       "      <td>2022-10-26 15:26:31+00:00</td>\n",
       "      <td>AyoCaesar</td>\n",
       "      <td>It's disgusting that @UKLabour are policing a ...</td>\n",
       "      <td>13738.0</td>\n",
       "      <td>2232.0</td>\n",
       "    </tr>\n",
       "    <tr>\n",
       "      <th>15458</th>\n",
       "      <td>15457</td>\n",
       "      <td>2023-02-15 09:53:21+00:00</td>\n",
       "      <td>AdnanSamiLive</td>\n",
       "      <td>Indeed I did. That was in 1976. That was a dif...</td>\n",
       "      <td>13411.0</td>\n",
       "      <td>1831.0</td>\n",
       "    </tr>\n",
       "    <tr>\n",
       "      <th>7697</th>\n",
       "      <td>7697</td>\n",
       "      <td>2023-03-12 12:30:19+00:00</td>\n",
       "      <td>desi_thug1</td>\n",
       "      <td>Future of Indian Politics...\\n\\n1. Yogi Aditya...</td>\n",
       "      <td>13198.0</td>\n",
       "      <td>1096.0</td>\n",
       "    </tr>\n",
       "    <tr>\n",
       "      <th>22029</th>\n",
       "      <td>22028</td>\n",
       "      <td>2023-01-19 06:10:46+00:00</td>\n",
       "      <td>ShashiTharoor</td>\n",
       "      <td>Just amazing. And incomprehensible in the worl...</td>\n",
       "      <td>12941.0</td>\n",
       "      <td>1240.0</td>\n",
       "    </tr>\n",
       "    <tr>\n",
       "      <th>39797</th>\n",
       "      <td>39796</td>\n",
       "      <td>2022-11-10 17:10:52+00:00</td>\n",
       "      <td>rohini_sgh</td>\n",
       "      <td>No other leader in Indian politics has been tr...</td>\n",
       "      <td>11743.0</td>\n",
       "      <td>2482.0</td>\n",
       "    </tr>\n",
       "    <tr>\n",
       "      <th>36005</th>\n",
       "      <td>36004</td>\n",
       "      <td>2022-11-24 23:27:19+00:00</td>\n",
       "      <td>actor_Nikhil</td>\n",
       "      <td>20 Brave Indian soldiers gave up their lives a...</td>\n",
       "      <td>11594.0</td>\n",
       "      <td>2094.0</td>\n",
       "    </tr>\n",
       "    <tr>\n",
       "      <th>20290</th>\n",
       "      <td>20289</td>\n",
       "      <td>2023-01-25 17:48:18+00:00</td>\n",
       "      <td>VishalDadlani</td>\n",
       "      <td>True \"Indian\" films bring people together. The...</td>\n",
       "      <td>10768.0</td>\n",
       "      <td>1701.0</td>\n",
       "    </tr>\n",
       "    <tr>\n",
       "      <th>20589</th>\n",
       "      <td>20588</td>\n",
       "      <td>2023-01-24 13:50:55+00:00</td>\n",
       "      <td>UnSubtleDesi</td>\n",
       "      <td>I’m not sure why Modi supporters are so pertur...</td>\n",
       "      <td>10303.0</td>\n",
       "      <td>1681.0</td>\n",
       "    </tr>\n",
       "    <tr>\n",
       "      <th>43846</th>\n",
       "      <td>43845</td>\n",
       "      <td>2022-10-29 00:52:46+00:00</td>\n",
       "      <td>MoeedNj</td>\n",
       "      <td>Gharida Ji, Unfortunately \"Indian Card\" is dea...</td>\n",
       "      <td>9206.0</td>\n",
       "      <td>3333.0</td>\n",
       "    </tr>\n",
       "  </tbody>\n",
       "</table>\n",
       "</div>"
      ],
      "text/plain": [
       "      Unnamed: 0                       Date           User  \\\n",
       "25620      25619  2023-01-02 04:42:59+00:00    RahulGandhi   \n",
       "45027      45026  2022-10-26 15:26:31+00:00      AyoCaesar   \n",
       "15458      15457  2023-02-15 09:53:21+00:00  AdnanSamiLive   \n",
       "7697        7697  2023-03-12 12:30:19+00:00     desi_thug1   \n",
       "22029      22028  2023-01-19 06:10:46+00:00  ShashiTharoor   \n",
       "39797      39796  2022-11-10 17:10:52+00:00     rohini_sgh   \n",
       "36005      36004  2022-11-24 23:27:19+00:00   actor_Nikhil   \n",
       "20290      20289  2023-01-25 17:48:18+00:00  VishalDadlani   \n",
       "20589      20588  2023-01-24 13:50:55+00:00   UnSubtleDesi   \n",
       "43846      43845  2022-10-29 00:52:46+00:00        MoeedNj   \n",
       "\n",
       "                                                   Tweet    Likes  Retweets  \n",
       "25620  ‘Hey Ram’, Khadi, Films and how only India, no...  20716.0    6551.0  \n",
       "45027  It's disgusting that @UKLabour are policing a ...  13738.0    2232.0  \n",
       "15458  Indeed I did. That was in 1976. That was a dif...  13411.0    1831.0  \n",
       "7697   Future of Indian Politics...\\n\\n1. Yogi Aditya...  13198.0    1096.0  \n",
       "22029  Just amazing. And incomprehensible in the worl...  12941.0    1240.0  \n",
       "39797  No other leader in Indian politics has been tr...  11743.0    2482.0  \n",
       "36005  20 Brave Indian soldiers gave up their lives a...  11594.0    2094.0  \n",
       "20290  True \"Indian\" films bring people together. The...  10768.0    1701.0  \n",
       "20589  I’m not sure why Modi supporters are so pertur...  10303.0    1681.0  \n",
       "43846  Gharida Ji, Unfortunately \"Indian Card\" is dea...   9206.0    3333.0  "
      ]
     },
     "execution_count": 13,
     "metadata": {},
     "output_type": "execute_result"
    }
   ],
   "source": [
    "poli_data_sorted.head(10)"
   ]
  },
  {
   "cell_type": "code",
   "execution_count": 14,
   "id": "cad161b0",
   "metadata": {},
   "outputs": [
    {
     "data": {
      "text/plain": [
       "Unnamed: 0    49999\n",
       "Date          49820\n",
       "User          35108\n",
       "Tweet         49568\n",
       "Likes           598\n",
       "Retweets        312\n",
       "dtype: int64"
      ]
     },
     "execution_count": 14,
     "metadata": {},
     "output_type": "execute_result"
    }
   ],
   "source": [
    "poli_data.nunique()"
   ]
  },
  {
   "cell_type": "code",
   "execution_count": 15,
   "id": "45800782",
   "metadata": {},
   "outputs": [],
   "source": [
    "poli_data['Date'] = pd.to_datetime(poli_data['Date'])"
   ]
  },
  {
   "cell_type": "code",
   "execution_count": 16,
   "id": "444faf07",
   "metadata": {},
   "outputs": [
    {
     "data": {
      "text/html": [
       "<div>\n",
       "<style scoped>\n",
       "    .dataframe tbody tr th:only-of-type {\n",
       "        vertical-align: middle;\n",
       "    }\n",
       "\n",
       "    .dataframe tbody tr th {\n",
       "        vertical-align: top;\n",
       "    }\n",
       "\n",
       "    .dataframe thead th {\n",
       "        text-align: right;\n",
       "    }\n",
       "</style>\n",
       "<table border=\"1\" class=\"dataframe\">\n",
       "  <thead>\n",
       "    <tr style=\"text-align: right;\">\n",
       "      <th></th>\n",
       "      <th>Unnamed: 0</th>\n",
       "      <th>Date</th>\n",
       "      <th>User</th>\n",
       "      <th>Tweet</th>\n",
       "      <th>Likes</th>\n",
       "      <th>Retweets</th>\n",
       "    </tr>\n",
       "  </thead>\n",
       "  <tbody>\n",
       "    <tr>\n",
       "      <th>0</th>\n",
       "      <td>0</td>\n",
       "      <td>2023-03-29 15:42:36+00:00</td>\n",
       "      <td>AnandPatni8</td>\n",
       "      <td>@vinodkapri @RahulGandhi Respected Indian Citi...</td>\n",
       "      <td>0.0</td>\n",
       "      <td>0.0</td>\n",
       "    </tr>\n",
       "    <tr>\n",
       "      <th>1</th>\n",
       "      <td>1</td>\n",
       "      <td>2023-03-29 15:42:05+00:00</td>\n",
       "      <td>dhinamum</td>\n",
       "      <td>*Respected Indian Citizens,* Namaskaar I Am Th...</td>\n",
       "      <td>0.0</td>\n",
       "      <td>0.0</td>\n",
       "    </tr>\n",
       "    <tr>\n",
       "      <th>2</th>\n",
       "      <td>2</td>\n",
       "      <td>2023-03-29 15:34:29+00:00</td>\n",
       "      <td>PrincetonCGI</td>\n",
       "      <td>1/n-Meet Filmmaker Prakash Jha in New Jersey t...</td>\n",
       "      <td>0.0</td>\n",
       "      <td>0.0</td>\n",
       "    </tr>\n",
       "    <tr>\n",
       "      <th>3</th>\n",
       "      <td>3</td>\n",
       "      <td>2023-03-29 15:31:43+00:00</td>\n",
       "      <td>RishiJoeSanu</td>\n",
       "      <td>@MrinalWahal Why would politicians stop using ...</td>\n",
       "      <td>0.0</td>\n",
       "      <td>0.0</td>\n",
       "    </tr>\n",
       "    <tr>\n",
       "      <th>4</th>\n",
       "      <td>4</td>\n",
       "      <td>2023-03-29 15:26:48+00:00</td>\n",
       "      <td>itweetsensee</td>\n",
       "      <td>@annamalai_k @narendramodi A state level presi...</td>\n",
       "      <td>0.0</td>\n",
       "      <td>0.0</td>\n",
       "    </tr>\n",
       "    <tr>\n",
       "      <th>...</th>\n",
       "      <td>...</td>\n",
       "      <td>...</td>\n",
       "      <td>...</td>\n",
       "      <td>...</td>\n",
       "      <td>...</td>\n",
       "      <td>...</td>\n",
       "    </tr>\n",
       "    <tr>\n",
       "      <th>49996</th>\n",
       "      <td>49995</td>\n",
       "      <td>2022-10-15 11:00:52+00:00</td>\n",
       "      <td>vinoims</td>\n",
       "      <td>@kaushikcbasu Cong ruled for 60 +yrs at center...</td>\n",
       "      <td>0.0</td>\n",
       "      <td>0.0</td>\n",
       "    </tr>\n",
       "    <tr>\n",
       "      <th>49997</th>\n",
       "      <td>49996</td>\n",
       "      <td>2022-10-15 10:56:51+00:00</td>\n",
       "      <td>Dan_T129</td>\n",
       "      <td>@ARYSabirShakir @OfficialDGISPR It's indian lo...</td>\n",
       "      <td>0.0</td>\n",
       "      <td>0.0</td>\n",
       "    </tr>\n",
       "    <tr>\n",
       "      <th>49998</th>\n",
       "      <td>49997</td>\n",
       "      <td>2022-10-15 10:50:52+00:00</td>\n",
       "      <td>shivashan_</td>\n",
       "      <td>@Schandillia A true leader puts the team in fr...</td>\n",
       "      <td>4.0</td>\n",
       "      <td>1.0</td>\n",
       "    </tr>\n",
       "    <tr>\n",
       "      <th>49999</th>\n",
       "      <td>49998</td>\n",
       "      <td>2022-10-15 10:41:17+00:00</td>\n",
       "      <td>SUNILKU74204938</td>\n",
       "      <td>Now' Rahul Gandhi is Mahanayak of\\nINDIA. Rega...</td>\n",
       "      <td>0.0</td>\n",
       "      <td>0.0</td>\n",
       "    </tr>\n",
       "    <tr>\n",
       "      <th>50000</th>\n",
       "      <td>49999</td>\n",
       "      <td>2022-10-15 10:28:05+00:00</td>\n",
       "      <td>Amateure_trader</td>\n",
       "      <td>@MajorPoonia New low in indian politics. If yo...</td>\n",
       "      <td>0.0</td>\n",
       "      <td>0.0</td>\n",
       "    </tr>\n",
       "  </tbody>\n",
       "</table>\n",
       "<p>49999 rows × 6 columns</p>\n",
       "</div>"
      ],
      "text/plain": [
       "      Unnamed: 0                      Date             User  \\\n",
       "0              0 2023-03-29 15:42:36+00:00      AnandPatni8   \n",
       "1              1 2023-03-29 15:42:05+00:00         dhinamum   \n",
       "2              2 2023-03-29 15:34:29+00:00     PrincetonCGI   \n",
       "3              3 2023-03-29 15:31:43+00:00     RishiJoeSanu   \n",
       "4              4 2023-03-29 15:26:48+00:00     itweetsensee   \n",
       "...          ...                       ...              ...   \n",
       "49996      49995 2022-10-15 11:00:52+00:00          vinoims   \n",
       "49997      49996 2022-10-15 10:56:51+00:00         Dan_T129   \n",
       "49998      49997 2022-10-15 10:50:52+00:00       shivashan_   \n",
       "49999      49998 2022-10-15 10:41:17+00:00  SUNILKU74204938   \n",
       "50000      49999 2022-10-15 10:28:05+00:00  Amateure_trader   \n",
       "\n",
       "                                                   Tweet  Likes  Retweets  \n",
       "0      @vinodkapri @RahulGandhi Respected Indian Citi...    0.0       0.0  \n",
       "1      *Respected Indian Citizens,* Namaskaar I Am Th...    0.0       0.0  \n",
       "2      1/n-Meet Filmmaker Prakash Jha in New Jersey t...    0.0       0.0  \n",
       "3      @MrinalWahal Why would politicians stop using ...    0.0       0.0  \n",
       "4      @annamalai_k @narendramodi A state level presi...    0.0       0.0  \n",
       "...                                                  ...    ...       ...  \n",
       "49996  @kaushikcbasu Cong ruled for 60 +yrs at center...    0.0       0.0  \n",
       "49997  @ARYSabirShakir @OfficialDGISPR It's indian lo...    0.0       0.0  \n",
       "49998  @Schandillia A true leader puts the team in fr...    4.0       1.0  \n",
       "49999  Now' Rahul Gandhi is Mahanayak of\\nINDIA. Rega...    0.0       0.0  \n",
       "50000  @MajorPoonia New low in indian politics. If yo...    0.0       0.0  \n",
       "\n",
       "[49999 rows x 6 columns]"
      ]
     },
     "execution_count": 16,
     "metadata": {},
     "output_type": "execute_result"
    }
   ],
   "source": [
    "poli_data"
   ]
  },
  {
   "cell_type": "code",
   "execution_count": 17,
   "id": "07c7196c",
   "metadata": {},
   "outputs": [
    {
     "data": {
      "image/png": "[encoded data removed]",
      "text/plain": [
       "<Figure size 1080x504 with 1 Axes>"
      ]
     },
     "metadata": {
      "needs_background": "light"
     },
     "output_type": "display_data"
    }
   ],
   "source": [
    "import matplotlib.pyplot as plt\n",
    "poli_data_sorted_date = poli_data.sort_values('Date')\n",
    "plt.figure(figsize=[15, 7])\n",
    "plt.plot(poli_data_sorted_date['Date'], poli_data_sorted_date['Likes'])\n",
    "plt.xlabel('Date')\n",
    "plt.ylabel('Likes')\n",
    "plt.title('Number of Likes over Time')\n",
    "plt.show()"
   ]
  },
  {
   "cell_type": "code",
   "execution_count": 18,
   "id": "4b714a3e",
   "metadata": {},
   "outputs": [
    {
     "data": {
      "image/png": "[encoded data removed]",
      "text/plain": [
       "<Figure size 1080x504 with 1 Axes>"
      ]
     },
     "metadata": {
      "needs_background": "light"
     },
     "output_type": "display_data"
    }
   ],
   "source": [
    "poli_data_sorted_date = poli_data.sort_values('Date')\n",
    "\n",
    "# Creating a scatter plot\n",
    "plt.figure(figsize=[15, 7])\n",
    "plt.scatter(poli_data_sorted_date['Date'], poli_data_sorted_date['Likes'])\n",
    "plt.xlabel('Date')\n",
    "plt.ylabel('Likes')\n",
    "plt.title('Number of Likes over Time')\n",
    "plt.show()"
   ]
  },
  {
   "cell_type": "code",
   "execution_count": 19,
   "id": "1beab726",
   "metadata": {},
   "outputs": [
    {
     "data": {
      "text/html": [
       "<div>\n",
       "<style scoped>\n",
       "    .dataframe tbody tr th:only-of-type {\n",
       "        vertical-align: middle;\n",
       "    }\n",
       "\n",
       "    .dataframe tbody tr th {\n",
       "        vertical-align: top;\n",
       "    }\n",
       "\n",
       "    .dataframe thead th {\n",
       "        text-align: right;\n",
       "    }\n",
       "</style>\n",
       "<table border=\"1\" class=\"dataframe\">\n",
       "  <thead>\n",
       "    <tr style=\"text-align: right;\">\n",
       "      <th></th>\n",
       "      <th>Unnamed: 0</th>\n",
       "      <th>User</th>\n",
       "      <th>Tweet</th>\n",
       "      <th>Likes</th>\n",
       "      <th>Retweets</th>\n",
       "      <th>Original_Tweet</th>\n",
       "      <th>DateTime</th>\n",
       "      <th>date</th>\n",
       "      <th>month</th>\n",
       "      <th>year</th>\n",
       "      <th>hour</th>\n",
       "    </tr>\n",
       "  </thead>\n",
       "  <tbody>\n",
       "    <tr>\n",
       "      <th>0</th>\n",
       "      <td>0</td>\n",
       "      <td>AnandPatni8</td>\n",
       "      <td>@vinodkapri @RahulGandhi Respected Indian Citi...</td>\n",
       "      <td>0.0</td>\n",
       "      <td>0.0</td>\n",
       "      <td>@vinodkapri @RahulGandhi Respected Indian Citi...</td>\n",
       "      <td>2023-03-29 15:42:36</td>\n",
       "      <td>2023-03-29</td>\n",
       "      <td>3</td>\n",
       "      <td>2023</td>\n",
       "      <td>15</td>\n",
       "    </tr>\n",
       "    <tr>\n",
       "      <th>1</th>\n",
       "      <td>1</td>\n",
       "      <td>dhinamum</td>\n",
       "      <td>*Respected Indian Citizens,* Namaskaar I Am Th...</td>\n",
       "      <td>0.0</td>\n",
       "      <td>0.0</td>\n",
       "      <td>*Respected Indian Citizens,* Namaskaar I Am Th...</td>\n",
       "      <td>2023-03-29 15:42:05</td>\n",
       "      <td>2023-03-29</td>\n",
       "      <td>3</td>\n",
       "      <td>2023</td>\n",
       "      <td>15</td>\n",
       "    </tr>\n",
       "    <tr>\n",
       "      <th>2</th>\n",
       "      <td>2</td>\n",
       "      <td>PrincetonCGI</td>\n",
       "      <td>1/n-Meet Filmmaker Prakash Jha in New Jersey t...</td>\n",
       "      <td>0.0</td>\n",
       "      <td>0.0</td>\n",
       "      <td>1/n-Meet Filmmaker Prakash Jha in New Jersey t...</td>\n",
       "      <td>2023-03-29 15:34:29</td>\n",
       "      <td>2023-03-29</td>\n",
       "      <td>3</td>\n",
       "      <td>2023</td>\n",
       "      <td>15</td>\n",
       "    </tr>\n",
       "    <tr>\n",
       "      <th>3</th>\n",
       "      <td>3</td>\n",
       "      <td>RishiJoeSanu</td>\n",
       "      <td>@MrinalWahal Why would politicians stop using ...</td>\n",
       "      <td>0.0</td>\n",
       "      <td>0.0</td>\n",
       "      <td>@MrinalWahal Why would politicians stop using ...</td>\n",
       "      <td>2023-03-29 15:31:43</td>\n",
       "      <td>2023-03-29</td>\n",
       "      <td>3</td>\n",
       "      <td>2023</td>\n",
       "      <td>15</td>\n",
       "    </tr>\n",
       "    <tr>\n",
       "      <th>4</th>\n",
       "      <td>4</td>\n",
       "      <td>itweetsensee</td>\n",
       "      <td>@annamalai_k @narendramodi A state level presi...</td>\n",
       "      <td>0.0</td>\n",
       "      <td>0.0</td>\n",
       "      <td>@annamalai_k @narendramodi A state level presi...</td>\n",
       "      <td>2023-03-29 15:26:48</td>\n",
       "      <td>2023-03-29</td>\n",
       "      <td>3</td>\n",
       "      <td>2023</td>\n",
       "      <td>15</td>\n",
       "    </tr>\n",
       "  </tbody>\n",
       "</table>\n",
       "</div>"
      ],
      "text/plain": [
       "  Unnamed: 0          User                                              Tweet  \\\n",
       "0          0   AnandPatni8  @vinodkapri @RahulGandhi Respected Indian Citi...   \n",
       "1          1      dhinamum  *Respected Indian Citizens,* Namaskaar I Am Th...   \n",
       "2          2  PrincetonCGI  1/n-Meet Filmmaker Prakash Jha in New Jersey t...   \n",
       "3          3  RishiJoeSanu  @MrinalWahal Why would politicians stop using ...   \n",
       "4          4  itweetsensee  @annamalai_k @narendramodi A state level presi...   \n",
       "\n",
       "   Likes  Retweets                                     Original_Tweet  \\\n",
       "0    0.0       0.0  @vinodkapri @RahulGandhi Respected Indian Citi...   \n",
       "1    0.0       0.0  *Respected Indian Citizens,* Namaskaar I Am Th...   \n",
       "2    0.0       0.0  1/n-Meet Filmmaker Prakash Jha in New Jersey t...   \n",
       "3    0.0       0.0  @MrinalWahal Why would politicians stop using ...   \n",
       "4    0.0       0.0  @annamalai_k @narendramodi A state level presi...   \n",
       "\n",
       "             DateTime        date  month  year  hour  \n",
       "0 2023-03-29 15:42:36  2023-03-29      3  2023    15  \n",
       "1 2023-03-29 15:42:05  2023-03-29      3  2023    15  \n",
       "2 2023-03-29 15:34:29  2023-03-29      3  2023    15  \n",
       "3 2023-03-29 15:31:43  2023-03-29      3  2023    15  \n",
       "4 2023-03-29 15:26:48  2023-03-29      3  2023    15  "
      ]
     },
     "execution_count": 19,
     "metadata": {},
     "output_type": "execute_result"
    }
   ],
   "source": [
    "poli_data['Original_Tweet'] = poli_data['Tweet']\n",
    "poli_data['DateTime'] = poli_data['Date']\n",
    "poli_data = poli_data.drop('Date', axis=1)\n",
    "poli_data['DateTime'] = poli_data['DateTime'].astype(str).apply(lambda x: x.split('+')[0])\n",
    "poli_data['DateTime'] = pd.to_datetime(poli_data['DateTime'], errors='coerce', format='%Y-%m-%d %H:%M:%S').fillna(pd.Timestamp('1900-01-01'))\n",
    "\n",
    "poli_data['date'] = poli_data.DateTime.apply(lambda x: x.date())\n",
    "poli_data['month'] = poli_data.DateTime.apply(lambda x: x.month)\n",
    "poli_data['year'] = poli_data.DateTime.apply(lambda x: x.year)\n",
    "poli_data['hour'] = poli_data.DateTime.apply(lambda x: x.hour)\n",
    "\n",
    "poli_data.head()\n"
   ]
  },
  {
   "cell_type": "code",
   "execution_count": 20,
   "id": "f6341d0b",
   "metadata": {},
   "outputs": [],
   "source": [
    "def clean_tweet(tweet):\n",
    "    \n",
    "    \n",
    "    # Remove Twitter handles\n",
    "    tweet = re.sub(r'@[A-Za-z0-9_]+', '', tweet)\n",
    "    \n",
    "    # Remove hashtags\n",
    "    tweet = re.sub(r'#', '', tweet)\n",
    "    \n",
    "    # Remove URLs\n",
    "    tweet = re.sub(r'http\\S+', '', tweet)\n",
    "    \n",
    "    # Remove profanity or offensive words\n",
    "    profanity.load_censor_words()\n",
    "    tweet = profanity.censor(tweet)\n",
    "    \n",
    "    # Remove stopwords\n",
    "    stop_words = set(stopwords.words('english'))\n",
    "    tweet_tokens = nltk.word_tokenize(tweet)\n",
    "    tweet = ' '.join([word for word in tweet_tokens if word.lower() not in stop_words])\n",
    "    \n",
    "    # Remove extra whitespaces\n",
    "    tweet = re.sub(r'\\s+', ' ', tweet).strip()\n",
    "    \n",
    "    return tweet"
   ]
  },
  {
   "cell_type": "code",
   "execution_count": 21,
   "id": "57ee5214",
   "metadata": {},
   "outputs": [
    {
     "name": "stderr",
     "output_type": "stream",
     "text": [
      "[nltk_data] Downloading package punkt to\n",
      "[nltk_data]     C:\\Users\\Admin\\AppData\\Roaming\\nltk_data...\n",
      "[nltk_data]   Package punkt is already up-to-date!\n"
     ]
    },
    {
     "data": {
      "text/plain": [
       "True"
      ]
     },
     "execution_count": 21,
     "metadata": {},
     "output_type": "execute_result"
    }
   ],
   "source": [
    "nltk.download('punkt')"
   ]
  },
  {
   "cell_type": "code",
   "execution_count": 22,
   "id": "c949a92f",
   "metadata": {},
   "outputs": [],
   "source": [
    "poli_data['Tweet']=poli_data['Tweet'].apply(clean_tweet)"
   ]
  },
  {
   "cell_type": "code",
   "execution_count": 23,
   "id": "7d593681",
   "metadata": {},
   "outputs": [
    {
     "data": {
      "text/html": [
       "<div>\n",
       "<style scoped>\n",
       "    .dataframe tbody tr th:only-of-type {\n",
       "        vertical-align: middle;\n",
       "    }\n",
       "\n",
       "    .dataframe tbody tr th {\n",
       "        vertical-align: top;\n",
       "    }\n",
       "\n",
       "    .dataframe thead th {\n",
       "        text-align: right;\n",
       "    }\n",
       "</style>\n",
       "<table border=\"1\" class=\"dataframe\">\n",
       "  <thead>\n",
       "    <tr style=\"text-align: right;\">\n",
       "      <th></th>\n",
       "      <th>Unnamed: 0</th>\n",
       "      <th>User</th>\n",
       "      <th>Tweet</th>\n",
       "      <th>Likes</th>\n",
       "      <th>Retweets</th>\n",
       "      <th>Original_Tweet</th>\n",
       "      <th>DateTime</th>\n",
       "      <th>date</th>\n",
       "      <th>month</th>\n",
       "      <th>year</th>\n",
       "      <th>hour</th>\n",
       "    </tr>\n",
       "  </thead>\n",
       "  <tbody>\n",
       "    <tr>\n",
       "      <th>0</th>\n",
       "      <td>0</td>\n",
       "      <td>AnandPatni8</td>\n",
       "      <td>Respected Indian Citizens , Namaskaar🙏I origin...</td>\n",
       "      <td>0.0</td>\n",
       "      <td>0.0</td>\n",
       "      <td>@vinodkapri @RahulGandhi Respected Indian Citi...</td>\n",
       "      <td>2023-03-29 15:42:36</td>\n",
       "      <td>2023-03-29</td>\n",
       "      <td>3</td>\n",
       "      <td>2023</td>\n",
       "      <td>15</td>\n",
       "    </tr>\n",
       "    <tr>\n",
       "      <th>1</th>\n",
       "      <td>1</td>\n",
       "      <td>dhinamum</td>\n",
       "      <td>* Respected Indian Citizens , * Namaskaar Orig...</td>\n",
       "      <td>0.0</td>\n",
       "      <td>0.0</td>\n",
       "      <td>*Respected Indian Citizens,* Namaskaar I Am Th...</td>\n",
       "      <td>2023-03-29 15:42:05</td>\n",
       "      <td>2023-03-29</td>\n",
       "      <td>3</td>\n",
       "      <td>2023</td>\n",
       "      <td>15</td>\n",
       "    </tr>\n",
       "    <tr>\n",
       "      <th>2</th>\n",
       "      <td>2</td>\n",
       "      <td>PrincetonCGI</td>\n",
       "      <td>1/n-Meet Filmmaker Prakash Jha New Jersey talk...</td>\n",
       "      <td>0.0</td>\n",
       "      <td>0.0</td>\n",
       "      <td>1/n-Meet Filmmaker Prakash Jha in New Jersey t...</td>\n",
       "      <td>2023-03-29 15:34:29</td>\n",
       "      <td>2023-03-29</td>\n",
       "      <td>3</td>\n",
       "      <td>2023</td>\n",
       "      <td>15</td>\n",
       "    </tr>\n",
       "    <tr>\n",
       "      <th>3</th>\n",
       "      <td>3</td>\n",
       "      <td>RishiJoeSanu</td>\n",
       "      <td>would politicians stop using religion politics...</td>\n",
       "      <td>0.0</td>\n",
       "      <td>0.0</td>\n",
       "      <td>@MrinalWahal Why would politicians stop using ...</td>\n",
       "      <td>2023-03-29 15:31:43</td>\n",
       "      <td>2023-03-29</td>\n",
       "      <td>3</td>\n",
       "      <td>2023</td>\n",
       "      <td>15</td>\n",
       "    </tr>\n",
       "    <tr>\n",
       "      <th>4</th>\n",
       "      <td>4</td>\n",
       "      <td>itweetsensee</td>\n",
       "      <td>state level president knows policy PM , union ...</td>\n",
       "      <td>0.0</td>\n",
       "      <td>0.0</td>\n",
       "      <td>@annamalai_k @narendramodi A state level presi...</td>\n",
       "      <td>2023-03-29 15:26:48</td>\n",
       "      <td>2023-03-29</td>\n",
       "      <td>3</td>\n",
       "      <td>2023</td>\n",
       "      <td>15</td>\n",
       "    </tr>\n",
       "  </tbody>\n",
       "</table>\n",
       "</div>"
      ],
      "text/plain": [
       "  Unnamed: 0          User                                              Tweet  \\\n",
       "0          0   AnandPatni8  Respected Indian Citizens , Namaskaar🙏I origin...   \n",
       "1          1      dhinamum  * Respected Indian Citizens , * Namaskaar Orig...   \n",
       "2          2  PrincetonCGI  1/n-Meet Filmmaker Prakash Jha New Jersey talk...   \n",
       "3          3  RishiJoeSanu  would politicians stop using religion politics...   \n",
       "4          4  itweetsensee  state level president knows policy PM , union ...   \n",
       "\n",
       "   Likes  Retweets                                     Original_Tweet  \\\n",
       "0    0.0       0.0  @vinodkapri @RahulGandhi Respected Indian Citi...   \n",
       "1    0.0       0.0  *Respected Indian Citizens,* Namaskaar I Am Th...   \n",
       "2    0.0       0.0  1/n-Meet Filmmaker Prakash Jha in New Jersey t...   \n",
       "3    0.0       0.0  @MrinalWahal Why would politicians stop using ...   \n",
       "4    0.0       0.0  @annamalai_k @narendramodi A state level presi...   \n",
       "\n",
       "             DateTime        date  month  year  hour  \n",
       "0 2023-03-29 15:42:36  2023-03-29      3  2023    15  \n",
       "1 2023-03-29 15:42:05  2023-03-29      3  2023    15  \n",
       "2 2023-03-29 15:34:29  2023-03-29      3  2023    15  \n",
       "3 2023-03-29 15:31:43  2023-03-29      3  2023    15  \n",
       "4 2023-03-29 15:26:48  2023-03-29      3  2023    15  "
      ]
     },
     "execution_count": 23,
     "metadata": {},
     "output_type": "execute_result"
    }
   ],
   "source": [
    " poli_data.head()"
   ]
  },
  {
   "cell_type": "code",
   "execution_count": 24,
   "id": "e0ee4333",
   "metadata": {},
   "outputs": [],
   "source": [
    "# Create TextBlob objects for each tweet in poli_data\n",
    "sentiment_objects = [TextBlob(tweet) for tweet in poli_data['Tweet']]\n",
    "\n",
    "# Create a list of polarity values and tweet text\n",
    "sentiment_values = [[tweet.sentiment.polarity, str(tweet)] for tweet in sentiment_objects]\n",
    "\n",
    "# Create a dataframe of each tweet against its polarity\n",
    "sentiment_df = pd.DataFrame(sentiment_values, columns=[\"polarity\", \"tweet\"])\n",
    "\n",
    "poli_data['Polarity'] = sentiment_df['polarity']"
   ]
  },
  {
   "cell_type": "code",
   "execution_count": 25,
   "id": "23ba8d68",
   "metadata": {},
   "outputs": [],
   "source": [
    "poli_data['Sentiment'] = poli_data['Polarity'].apply(lambda x: 'Positive' if x > 0 else 'Negative' if x < 0 else 'Neutral')\n"
   ]
  },
  {
   "cell_type": "code",
   "execution_count": 26,
   "id": "c529fb19",
   "metadata": {},
   "outputs": [
    {
     "data": {
      "text/html": [
       "<div>\n",
       "<style scoped>\n",
       "    .dataframe tbody tr th:only-of-type {\n",
       "        vertical-align: middle;\n",
       "    }\n",
       "\n",
       "    .dataframe tbody tr th {\n",
       "        vertical-align: top;\n",
       "    }\n",
       "\n",
       "    .dataframe thead th {\n",
       "        text-align: right;\n",
       "    }\n",
       "</style>\n",
       "<table border=\"1\" class=\"dataframe\">\n",
       "  <thead>\n",
       "    <tr style=\"text-align: right;\">\n",
       "      <th></th>\n",
       "      <th>Unnamed: 0</th>\n",
       "      <th>User</th>\n",
       "      <th>Tweet</th>\n",
       "      <th>Likes</th>\n",
       "      <th>Retweets</th>\n",
       "      <th>Original_Tweet</th>\n",
       "      <th>DateTime</th>\n",
       "      <th>date</th>\n",
       "      <th>month</th>\n",
       "      <th>year</th>\n",
       "      <th>hour</th>\n",
       "      <th>Polarity</th>\n",
       "      <th>Sentiment</th>\n",
       "    </tr>\n",
       "  </thead>\n",
       "  <tbody>\n",
       "    <tr>\n",
       "      <th>0</th>\n",
       "      <td>0</td>\n",
       "      <td>AnandPatni8</td>\n",
       "      <td>Respected Indian Citizens , Namaskaar🙏I origin...</td>\n",
       "      <td>0.0</td>\n",
       "      <td>0.0</td>\n",
       "      <td>@vinodkapri @RahulGandhi Respected Indian Citi...</td>\n",
       "      <td>2023-03-29 15:42:36</td>\n",
       "      <td>2023-03-29</td>\n",
       "      <td>3</td>\n",
       "      <td>2023</td>\n",
       "      <td>15</td>\n",
       "      <td>-0.062500</td>\n",
       "      <td>Negative</td>\n",
       "    </tr>\n",
       "    <tr>\n",
       "      <th>1</th>\n",
       "      <td>1</td>\n",
       "      <td>dhinamum</td>\n",
       "      <td>* Respected Indian Citizens , * Namaskaar Orig...</td>\n",
       "      <td>0.0</td>\n",
       "      <td>0.0</td>\n",
       "      <td>*Respected Indian Citizens,* Namaskaar I Am Th...</td>\n",
       "      <td>2023-03-29 15:42:05</td>\n",
       "      <td>2023-03-29</td>\n",
       "      <td>3</td>\n",
       "      <td>2023</td>\n",
       "      <td>15</td>\n",
       "      <td>-0.062500</td>\n",
       "      <td>Negative</td>\n",
       "    </tr>\n",
       "    <tr>\n",
       "      <th>2</th>\n",
       "      <td>2</td>\n",
       "      <td>PrincetonCGI</td>\n",
       "      <td>1/n-Meet Filmmaker Prakash Jha New Jersey talk...</td>\n",
       "      <td>0.0</td>\n",
       "      <td>0.0</td>\n",
       "      <td>1/n-Meet Filmmaker Prakash Jha in New Jersey t...</td>\n",
       "      <td>2023-03-29 15:34:29</td>\n",
       "      <td>2023-03-29</td>\n",
       "      <td>3</td>\n",
       "      <td>2023</td>\n",
       "      <td>15</td>\n",
       "      <td>0.173232</td>\n",
       "      <td>Positive</td>\n",
       "    </tr>\n",
       "    <tr>\n",
       "      <th>3</th>\n",
       "      <td>3</td>\n",
       "      <td>RishiJoeSanu</td>\n",
       "      <td>would politicians stop using religion politics...</td>\n",
       "      <td>0.0</td>\n",
       "      <td>0.0</td>\n",
       "      <td>@MrinalWahal Why would politicians stop using ...</td>\n",
       "      <td>2023-03-29 15:31:43</td>\n",
       "      <td>2023-03-29</td>\n",
       "      <td>3</td>\n",
       "      <td>2023</td>\n",
       "      <td>15</td>\n",
       "      <td>0.000000</td>\n",
       "      <td>Neutral</td>\n",
       "    </tr>\n",
       "    <tr>\n",
       "      <th>4</th>\n",
       "      <td>4</td>\n",
       "      <td>itweetsensee</td>\n",
       "      <td>state level president knows policy PM , union ...</td>\n",
       "      <td>0.0</td>\n",
       "      <td>0.0</td>\n",
       "      <td>@annamalai_k @narendramodi A state level presi...</td>\n",
       "      <td>2023-03-29 15:26:48</td>\n",
       "      <td>2023-03-29</td>\n",
       "      <td>3</td>\n",
       "      <td>2023</td>\n",
       "      <td>15</td>\n",
       "      <td>0.214286</td>\n",
       "      <td>Positive</td>\n",
       "    </tr>\n",
       "  </tbody>\n",
       "</table>\n",
       "</div>"
      ],
      "text/plain": [
       "  Unnamed: 0          User                                              Tweet  \\\n",
       "0          0   AnandPatni8  Respected Indian Citizens , Namaskaar🙏I origin...   \n",
       "1          1      dhinamum  * Respected Indian Citizens , * Namaskaar Orig...   \n",
       "2          2  PrincetonCGI  1/n-Meet Filmmaker Prakash Jha New Jersey talk...   \n",
       "3          3  RishiJoeSanu  would politicians stop using religion politics...   \n",
       "4          4  itweetsensee  state level president knows policy PM , union ...   \n",
       "\n",
       "   Likes  Retweets                                     Original_Tweet  \\\n",
       "0    0.0       0.0  @vinodkapri @RahulGandhi Respected Indian Citi...   \n",
       "1    0.0       0.0  *Respected Indian Citizens,* Namaskaar I Am Th...   \n",
       "2    0.0       0.0  1/n-Meet Filmmaker Prakash Jha in New Jersey t...   \n",
       "3    0.0       0.0  @MrinalWahal Why would politicians stop using ...   \n",
       "4    0.0       0.0  @annamalai_k @narendramodi A state level presi...   \n",
       "\n",
       "             DateTime        date  month  year  hour  Polarity Sentiment  \n",
       "0 2023-03-29 15:42:36  2023-03-29      3  2023    15 -0.062500  Negative  \n",
       "1 2023-03-29 15:42:05  2023-03-29      3  2023    15 -0.062500  Negative  \n",
       "2 2023-03-29 15:34:29  2023-03-29      3  2023    15  0.173232  Positive  \n",
       "3 2023-03-29 15:31:43  2023-03-29      3  2023    15  0.000000   Neutral  \n",
       "4 2023-03-29 15:26:48  2023-03-29      3  2023    15  0.214286  Positive  "
      ]
     },
     "execution_count": 26,
     "metadata": {},
     "output_type": "execute_result"
    }
   ],
   "source": [
    "poli_data.head()"
   ]
  },
  {
   "cell_type": "code",
   "execution_count": 27,
   "id": "f4d7e673",
   "metadata": {},
   "outputs": [
    {
     "data": {
      "image/png": "[encoded data removed]",
      "text/plain": [
       "<Figure size 576x432 with 1 Axes>"
      ]
     },
     "metadata": {},
     "output_type": "display_data"
    }
   ],
   "source": [
    "\n",
    "# Count the number of occurrences for each sentiment\n",
    "sentiment_counts = poli_data['Sentiment'].value_counts()\n",
    "\n",
    "# Define custom colors for the pie chart\n",
    "colors = ['mediumseagreen', 'crimson', 'royalblue']\n",
    "\n",
    "# Create a pie chart of the Sentiment column\n",
    "plt.figure(figsize=(8, 6))\n",
    "plt.pie(sentiment_counts, labels=sentiment_counts.index, colors=colors, autopct='%1.1f%%')\n",
    "\n",
    "# Set the chart title\n",
    "plt.title('Distribution of Sentiment')\n",
    "\n",
    "# Display the chart\n",
    "plt.show()"
   ]
  },
  {
   "cell_type": "code",
   "execution_count": 28,
   "id": "cb20f4c7",
   "metadata": {},
   "outputs": [
    {
     "data": {
      "image/png": "[encoded data removed]",
      "text/plain": [
       "<Figure size 720x432 with 1 Axes>"
      ]
     },
     "metadata": {
      "needs_background": "light"
     },
     "output_type": "display_data"
    }
   ],
   "source": [
    "hourly_sentiment_counts = poli_data.groupby(['hour', 'Sentiment']).size().unstack().fillna(0)\n",
    "\n",
    "plt.figure(figsize=(10, 6))\n",
    "\n",
    "for sentiment in hourly_sentiment_counts.columns:\n",
    "    plt.plot(hourly_sentiment_counts.index, hourly_sentiment_counts[sentiment], label=sentiment)\n",
    "\n",
    "\n",
    "plt.title('Number of Tweets per Hour based on Sentiments', fontsize=16)\n",
    "plt.xlabel('Hour of the day', fontsize=12)\n",
    "plt.ylabel('Number of Tweets', fontsize=12)\n",
    "plt.legend()\n",
    "plt.show()"
   ]
  },
  {
   "cell_type": "code",
   "execution_count": 29,
   "id": "c0e15c8e",
   "metadata": {},
   "outputs": [],
   "source": [
    "import wordcloud"
   ]
  },
  {
   "cell_type": "code",
   "execution_count": 30,
   "id": "e22582d0",
   "metadata": {},
   "outputs": [],
   "source": [
    "from PIL import ImageFont\n",
    "font = ImageFont.truetype(r'C:/WINDOWS/Fonts/Calibri.ttf')"
   ]
  },
  {
   "cell_type": "code",
   "execution_count": 31,
   "id": "e8c2bd72",
   "metadata": {},
   "outputs": [
    {
     "data": {
      "text/plain": [
       "True"
      ]
     },
     "execution_count": 31,
     "metadata": {},
     "output_type": "execute_result"
    }
   ],
   "source": [
    "import os\n",
    "os.path.exists('C:/WINDOWS/Fonts/Calibri.ttf')"
   ]
  },
  {
   "cell_type": "code",
   "execution_count": 32,
   "id": "db5bedc4",
   "metadata": {},
   "outputs": [
    {
     "data": {
      "text/html": [
       "<div>\n",
       "<style scoped>\n",
       "    .dataframe tbody tr th:only-of-type {\n",
       "        vertical-align: middle;\n",
       "    }\n",
       "\n",
       "    .dataframe tbody tr th {\n",
       "        vertical-align: top;\n",
       "    }\n",
       "\n",
       "    .dataframe thead th {\n",
       "        text-align: right;\n",
       "    }\n",
       "</style>\n",
       "<table border=\"1\" class=\"dataframe\">\n",
       "  <thead>\n",
       "    <tr style=\"text-align: right;\">\n",
       "      <th></th>\n",
       "      <th>Tweet</th>\n",
       "      <th>Sentiment</th>\n",
       "    </tr>\n",
       "  </thead>\n",
       "  <tbody>\n",
       "    <tr>\n",
       "      <th>0</th>\n",
       "      <td>Respected Indian Citizens , Namaskaar🙏I origin...</td>\n",
       "      <td>Negative</td>\n",
       "    </tr>\n",
       "    <tr>\n",
       "      <th>1</th>\n",
       "      <td>* Respected Indian Citizens , * Namaskaar Orig...</td>\n",
       "      <td>Negative</td>\n",
       "    </tr>\n",
       "    <tr>\n",
       "      <th>2</th>\n",
       "      <td>1/n-Meet Filmmaker Prakash Jha New Jersey talk...</td>\n",
       "      <td>Positive</td>\n",
       "    </tr>\n",
       "    <tr>\n",
       "      <th>3</th>\n",
       "      <td>would politicians stop using religion politics...</td>\n",
       "      <td>Neutral</td>\n",
       "    </tr>\n",
       "    <tr>\n",
       "      <th>4</th>\n",
       "      <td>state level president knows policy PM , union ...</td>\n",
       "      <td>Positive</td>\n",
       "    </tr>\n",
       "    <tr>\n",
       "      <th>...</th>\n",
       "      <td>...</td>\n",
       "      <td>...</td>\n",
       "    </tr>\n",
       "    <tr>\n",
       "      <th>49996</th>\n",
       "      <td>Cong ruled 60 +yrs center &amp; amp ; state level ...</td>\n",
       "      <td>Positive</td>\n",
       "    </tr>\n",
       "    <tr>\n",
       "      <th>49997</th>\n",
       "      <td>'s indian lobbyists winning . Pakistani busy f...</td>\n",
       "      <td>Positive</td>\n",
       "    </tr>\n",
       "    <tr>\n",
       "      <th>49998</th>\n",
       "      <td>true leader puts team front success . failure ...</td>\n",
       "      <td>Negative</td>\n",
       "    </tr>\n",
       "    <tr>\n",
       "      <th>49999</th>\n",
       "      <td>' Rahul Gandhi Mahanayak INDIA . Regarding Bha...</td>\n",
       "      <td>Neutral</td>\n",
       "    </tr>\n",
       "    <tr>\n",
       "      <th>50000</th>\n",
       "      <td>New low indian politics . want show anyone bad...</td>\n",
       "      <td>Neutral</td>\n",
       "    </tr>\n",
       "  </tbody>\n",
       "</table>\n",
       "<p>49999 rows × 2 columns</p>\n",
       "</div>"
      ],
      "text/plain": [
       "                                                   Tweet Sentiment\n",
       "0      Respected Indian Citizens , Namaskaar🙏I origin...  Negative\n",
       "1      * Respected Indian Citizens , * Namaskaar Orig...  Negative\n",
       "2      1/n-Meet Filmmaker Prakash Jha New Jersey talk...  Positive\n",
       "3      would politicians stop using religion politics...   Neutral\n",
       "4      state level president knows policy PM , union ...  Positive\n",
       "...                                                  ...       ...\n",
       "49996  Cong ruled 60 +yrs center & amp ; state level ...  Positive\n",
       "49997  's indian lobbyists winning . Pakistani busy f...  Positive\n",
       "49998  true leader puts team front success . failure ...  Negative\n",
       "49999  ' Rahul Gandhi Mahanayak INDIA . Regarding Bha...   Neutral\n",
       "50000  New low indian politics . want show anyone bad...   Neutral\n",
       "\n",
       "[49999 rows x 2 columns]"
      ]
     },
     "execution_count": 32,
     "metadata": {},
     "output_type": "execute_result"
    }
   ],
   "source": [
    "poli3 = poli_data[['Tweet', 'Sentiment']]\n",
    "poli3"
   ]
  },
  {
   "cell_type": "code",
   "execution_count": 33,
   "id": "31fd2e53",
   "metadata": {},
   "outputs": [],
   "source": [
    "non_meaningful_words = ['cr', 'amp', 'rs', 'u', 'l']\n",
    "\n",
    "def remove_non_meaningful_words(text):\n",
    "    tokens = text.split()\n",
    "    filtered_tokens = [token for token in tokens if token not in non_meaningful_words]\n",
    "    filtered_text = ' '.join(filtered_tokens)\n",
    "    return filtered_text\n",
    "\n",
    "poli3['Tweet'] = poli3['Tweet'].apply(remove_non_meaningful_words)"
   ]
  },
  {
   "cell_type": "code",
   "execution_count": 43,
   "id": "97315cd7",
   "metadata": {},
   "outputs": [
    {
     "name": "stdout",
     "output_type": "stream",
     "text": [
      "71348\n"
     ]
    }
   ],
   "source": [
    "all_words = \" \".join([sentence for sentence in poli_data['Tweet']])\n",
    "all_words = all_words.split()\n",
    "\n",
    "freq_dict = {}\n",
    "for word in all_words:\n",
    "    # set the default value to 0\n",
    "    freq_dict.setdefault(word, 0)\n",
    "    # increment the value by 1\n",
    "    freq_dict[word] += 1\n",
    "\n",
    "voc_freq_dict = dict(sorted(freq_dict.items(), key=lambda item: item[1], reverse = True))\n",
    "print(len(voc_freq_dict))"
   ]
  },
  {
   "cell_type": "code",
   "execution_count": 44,
   "id": "678adc9c",
   "metadata": {},
   "outputs": [],
   "source": [
    "import re\n",
    "\n",
    "def remove_punctuation(text):\n",
    "    # Define the pattern to match punctuation\n",
    "    punctuation_pattern = r'[^\\w\\s]'\n",
    "    \n",
    "    # Remove punctuation using regular expressions\n",
    "    text_without_punctuation = re.sub(punctuation_pattern, '', text)\n",
    "    \n",
    "    return text_without_punctuation\n",
    "\n",
    "# Apply the remove_punctuation function to the 'Tweet' column in your DataFrame\n",
    "poli_data['Tweet'] = poli_data['Tweet'].apply(remove_punctuation)"
   ]
  },
  {
   "cell_type": "code",
   "execution_count": 45,
   "id": "af1b882c",
   "metadata": {},
   "outputs": [],
   "source": [
    "def remove_single_words_except_ai(text):\n",
    "    # except for 'a' and 'i'\n",
    "    single_word_pattern = r'\\b(?!(a|i)\\b)\\w\\b'\n",
    "    \n",
    "    text_without_single_words = re.sub(single_word_pattern, '', text)\n",
    "    \n",
    "    return text_without_single_words\n",
    "\n",
    "poli_data['Tweet'] = poli_data['Tweet'].apply(remove_single_words_except_ai)"
   ]
  },
  {
   "cell_type": "code",
   "execution_count": 46,
   "id": "c051f2b8",
   "metadata": {},
   "outputs": [
    {
     "data": {
      "image/png": "[encoded data removed]",
      "text/plain": [
       "<Figure size 432x288 with 1 Axes>"
      ]
     },
     "metadata": {
      "needs_background": "light"
     },
     "output_type": "display_data"
    }
   ],
   "source": [
    "import itertools\n",
    "\n",
    "hist_plot = dict(itertools.islice(voc_freq_dict.items(), 10))\n",
    "\n",
    "plt.bar(hist_plot.keys(), hist_plot.values(), width=0.5, color='g')\n",
    "plt.xticks(rotation=90)\n",
    "plt.xlabel('Word')\n",
    "plt.ylabel('Frequency')\n",
    "plt.title('Top 10 Word Frequencies')\n",
    "plt.show()"
   ]
  },
  {
   "cell_type": "markdown",
   "id": "aa695ad7",
   "metadata": {},
   "source": [
    "## These are some top words from tweets"
   ]
  },
  {
   "cell_type": "code",
   "execution_count": 49,
   "id": "ebb89577",
   "metadata": {},
   "outputs": [
    {
     "data": {
      "image/png": "[encoded data removed]",
      "text/plain": [
       "<Figure size 720x432 with 1 Axes>"
      ]
     },
     "metadata": {
      "needs_background": "light"
     },
     "output_type": "display_data"
    }
   ],
   "source": [
    "def format_hour(h: int):\n",
    "    h = str(h)\n",
    "    if len(h) == 1:\n",
    "        h = '0' + h\n",
    "    h = h + \":00\"\n",
    "    return h\n",
    "\n",
    "hourly = poli_data.groupby('hour')['Tweet'].count()\n",
    "hourly = pd.DataFrame(hourly).reset_index()\n",
    "hourly.columns = ['Hour of Day', 'Number of tweets']\n",
    "hourly['Hour of Day'] = hourly['Hour of Day'].apply(format_hour)\n",
    "\n",
    "plt.figure(figsize=(10, 6))\n",
    "plt.plot(hourly['Hour of Day'], hourly['Number of tweets'], color='crimson')\n",
    "plt.xlabel('Hour of Day')\n",
    "plt.ylabel('Number of tweets')\n",
    "plt.title('Time of the Day most Tweeted')\n",
    "plt.xticks(rotation=45)\n",
    "plt.show()\n"
   ]
  },
  {
   "cell_type": "code",
   "execution_count": 50,
   "id": "dfc388b8",
   "metadata": {},
   "outputs": [
    {
     "data": {
      "application/vnd.plotly.v1+json": {
       "config": {
        "plotlyServerURL": "https://plot.ly"
       },
       "data": [
        {
         "hovertemplate": "Sentiment=Negative<br>Number of Tweets=%{r}<br>Hour of Day=%{theta}<extra></extra>",
         "legendgroup": "Negative",
         "line": {
          "color": "crimson",
          "dash": "solid"
         },
         "marker": {
          "symbol": "circle"
         },
         "mode": "lines",
         "name": "Negative",
         "r": [
          216,
          326,
          472,
          568,
          610,
          722,
          731,
          700,
          616,
          610,
          615,
          601,
          641,
          666,
          691,
          763,
          743,
          702,
          543,
          376,
          268,
          187,
          197,
          176,
          216
         ],
         "showlegend": true,
         "subplot": "polar",
         "theta": [
          "00:00",
          "01:00",
          "02:00",
          "03:00",
          "04:00",
          "05:00",
          "06:00",
          "07:00",
          "08:00",
          "09:00",
          "10:00",
          "11:00",
          "12:00",
          "13:00",
          "14:00",
          "15:00",
          "16:00",
          "17:00",
          "18:00",
          "19:00",
          "20:00",
          "21:00",
          "22:00",
          "23:00",
          "00:00"
         ],
         "type": "scatterpolar"
        },
        {
         "hovertemplate": "Sentiment=Neutral<br>Number of Tweets=%{r}<br>Hour of Day=%{theta}<extra></extra>",
         "legendgroup": "Neutral",
         "line": {
          "color": "royalblue",
          "dash": "dot"
         },
         "marker": {
          "symbol": "circle"
         },
         "mode": "lines",
         "name": "Neutral",
         "r": [
          213,
          280,
          482,
          661,
          885,
          904,
          857,
          799,
          749,
          754,
          687,
          734,
          771,
          817,
          851,
          894,
          849,
          795,
          605,
          384,
          262,
          183,
          165,
          152,
          213
         ],
         "showlegend": true,
         "subplot": "polar",
         "theta": [
          "00:00",
          "01:00",
          "02:00",
          "03:00",
          "04:00",
          "05:00",
          "06:00",
          "07:00",
          "08:00",
          "09:00",
          "10:00",
          "11:00",
          "12:00",
          "13:00",
          "14:00",
          "15:00",
          "16:00",
          "17:00",
          "18:00",
          "19:00",
          "20:00",
          "21:00",
          "22:00",
          "23:00",
          "00:00"
         ],
         "type": "scatterpolar"
        },
        {
         "hovertemplate": "Sentiment=Positive<br>Number of Tweets=%{r}<br>Hour of Day=%{theta}<extra></extra>",
         "legendgroup": "Positive",
         "line": {
          "color": "mediumseagreen",
          "dash": "dash"
         },
         "marker": {
          "symbol": "circle"
         },
         "mode": "lines",
         "name": "Positive",
         "r": [
          370,
          514,
          739,
          1070,
          1164,
          1313,
          1393,
          1218,
          1132,
          1056,
          1077,
          1103,
          1096,
          1221,
          1432,
          1332,
          1229,
          1170,
          947,
          616,
          461,
          328,
          265,
          280,
          370
         ],
         "showlegend": true,
         "subplot": "polar",
         "theta": [
          "00:00",
          "01:00",
          "02:00",
          "03:00",
          "04:00",
          "05:00",
          "06:00",
          "07:00",
          "08:00",
          "09:00",
          "10:00",
          "11:00",
          "12:00",
          "13:00",
          "14:00",
          "15:00",
          "16:00",
          "17:00",
          "18:00",
          "19:00",
          "20:00",
          "21:00",
          "22:00",
          "23:00",
          "00:00"
         ],
         "type": "scatterpolar"
        }
       ],
       "layout": {
        "legend": {
         "title": {
          "text": "Sentiment"
         },
         "tracegroupgap": 0
        },
        "margin": {
         "t": 60
        },
        "polar": {
         "angularaxis": {
          "direction": "clockwise",
          "rotation": 90
         },
         "domain": {
          "x": [
           0,
           1
          ],
          "y": [
           0,
           1
          ]
         }
        },
        "template": {
         "data": {
          "bar": [
           {
            "error_x": {
             "color": "rgb(51,51,51)"
            },
            "error_y": {
             "color": "rgb(51,51,51)"
            },
            "marker": {
             "line": {
              "color": "rgb(237,237,237)",
              "width": 0.5
             },
             "pattern": {
              "fillmode": "overlay",
              "size": 10,
              "solidity": 0.2
             }
            },
            "type": "bar"
           }
          ],
          "barpolar": [
           {
            "marker": {
             "line": {
              "color": "rgb(237,237,237)",
              "width": 0.5
             },
             "pattern": {
              "fillmode": "overlay",
              "size": 10,
              "solidity": 0.2
             }
            },
            "type": "barpolar"
           }
          ],
          "carpet": [
           {
            "aaxis": {
             "endlinecolor": "rgb(51,51,51)",
             "gridcolor": "white",
             "linecolor": "white",
             "minorgridcolor": "white",
             "startlinecolor": "rgb(51,51,51)"
            },
            "baxis": {
             "endlinecolor": "rgb(51,51,51)",
             "gridcolor": "white",
             "linecolor": "white",
             "minorgridcolor": "white",
             "startlinecolor": "rgb(51,51,51)"
            },
            "type": "carpet"
           }
          ],
          "choropleth": [
           {
            "colorbar": {
             "outlinewidth": 0,
             "tickcolor": "rgb(237,237,237)",
             "ticklen": 6,
             "ticks": "inside"
            },
            "type": "choropleth"
           }
          ],
          "contour": [
           {
            "colorbar": {
             "outlinewidth": 0,
             "tickcolor": "rgb(237,237,237)",
             "ticklen": 6,
             "ticks": "inside"
            },
            "colorscale": [
             [
              0,
              "rgb(20,44,66)"
             ],
             [
              1,
              "rgb(90,179,244)"
             ]
            ],
            "type": "contour"
           }
          ],
          "contourcarpet": [
           {
            "colorbar": {
             "outlinewidth": 0,
             "tickcolor": "rgb(237,237,237)",
             "ticklen": 6,
             "ticks": "inside"
            },
            "type": "contourcarpet"
           }
          ],
          "heatmap": [
           {
            "colorbar": {
             "outlinewidth": 0,
             "tickcolor": "rgb(237,237,237)",
             "ticklen": 6,
             "ticks": "inside"
            },
            "colorscale": [
             [
              0,
              "rgb(20,44,66)"
             ],
             [
              1,
              "rgb(90,179,244)"
             ]
            ],
            "type": "heatmap"
           }
          ],
          "heatmapgl": [
           {
            "colorbar": {
             "outlinewidth": 0,
             "tickcolor": "rgb(237,237,237)",
             "ticklen": 6,
             "ticks": "inside"
            },
            "colorscale": [
             [
              0,
              "rgb(20,44,66)"
             ],
             [
              1,
              "rgb(90,179,244)"
             ]
            ],
            "type": "heatmapgl"
           }
          ],
          "histogram": [
           {
            "marker": {
             "pattern": {
              "fillmode": "overlay",
              "size": 10,
              "solidity": 0.2
             }
            },
            "type": "histogram"
           }
          ],
          "histogram2d": [
           {
            "colorbar": {
             "outlinewidth": 0,
             "tickcolor": "rgb(237,237,237)",
             "ticklen": 6,
             "ticks": "inside"
            },
            "colorscale": [
             [
              0,
              "rgb(20,44,66)"
             ],
             [
              1,
              "rgb(90,179,244)"
             ]
            ],
            "type": "histogram2d"
           }
          ],
          "histogram2dcontour": [
           {
            "colorbar": {
             "outlinewidth": 0,
             "tickcolor": "rgb(237,237,237)",
             "ticklen": 6,
             "ticks": "inside"
            },
            "colorscale": [
             [
              0,
              "rgb(20,44,66)"
             ],
             [
              1,
              "rgb(90,179,244)"
             ]
            ],
            "type": "histogram2dcontour"
           }
          ],
          "mesh3d": [
           {
            "colorbar": {
             "outlinewidth": 0,
             "tickcolor": "rgb(237,237,237)",
             "ticklen": 6,
             "ticks": "inside"
            },
            "type": "mesh3d"
           }
          ],
          "parcoords": [
           {
            "line": {
             "colorbar": {
              "outlinewidth": 0,
              "tickcolor": "rgb(237,237,237)",
              "ticklen": 6,
              "ticks": "inside"
             }
            },
            "type": "parcoords"
           }
          ],
          "pie": [
           {
            "automargin": true,
            "type": "pie"
           }
          ],
          "scatter": [
           {
            "fillpattern": {
             "fillmode": "overlay",
             "size": 10,
             "solidity": 0.2
            },
            "type": "scatter"
           }
          ],
          "scatter3d": [
           {
            "line": {
             "colorbar": {
              "outlinewidth": 0,
              "tickcolor": "rgb(237,237,237)",
              "ticklen": 6,
              "ticks": "inside"
             }
            },
            "marker": {
             "colorbar": {
              "outlinewidth": 0,
              "tickcolor": "rgb(237,237,237)",
              "ticklen": 6,
              "ticks": "inside"
             }
            },
            "type": "scatter3d"
           }
          ],
          "scattercarpet": [
           {
            "marker": {
             "colorbar": {
              "outlinewidth": 0,
              "tickcolor": "rgb(237,237,237)",
              "ticklen": 6,
              "ticks": "inside"
             }
            },
            "type": "scattercarpet"
           }
          ],
          "scattergeo": [
           {
            "marker": {
             "colorbar": {
              "outlinewidth": 0,
              "tickcolor": "rgb(237,237,237)",
              "ticklen": 6,
              "ticks": "inside"
             }
            },
            "type": "scattergeo"
           }
          ],
          "scattergl": [
           {
            "marker": {
             "colorbar": {
              "outlinewidth": 0,
              "tickcolor": "rgb(237,237,237)",
              "ticklen": 6,
              "ticks": "inside"
             }
            },
            "type": "scattergl"
           }
          ],
          "scattermapbox": [
           {
            "marker": {
             "colorbar": {
              "outlinewidth": 0,
              "tickcolor": "rgb(237,237,237)",
              "ticklen": 6,
              "ticks": "inside"
             }
            },
            "type": "scattermapbox"
           }
          ],
          "scatterpolar": [
           {
            "marker": {
             "colorbar": {
              "outlinewidth": 0,
              "tickcolor": "rgb(237,237,237)",
              "ticklen": 6,
              "ticks": "inside"
             }
            },
            "type": "scatterpolar"
           }
          ],
          "scatterpolargl": [
           {
            "marker": {
             "colorbar": {
              "outlinewidth": 0,
              "tickcolor": "rgb(237,237,237)",
              "ticklen": 6,
              "ticks": "inside"
             }
            },
            "type": "scatterpolargl"
           }
          ],
          "scatterternary": [
           {
            "marker": {
             "colorbar": {
              "outlinewidth": 0,
              "tickcolor": "rgb(237,237,237)",
              "ticklen": 6,
              "ticks": "inside"
             }
            },
            "type": "scatterternary"
           }
          ],
          "surface": [
           {
            "colorbar": {
             "outlinewidth": 0,
             "tickcolor": "rgb(237,237,237)",
             "ticklen": 6,
             "ticks": "inside"
            },
            "colorscale": [
             [
              0,
              "rgb(20,44,66)"
             ],
             [
              1,
              "rgb(90,179,244)"
             ]
            ],
            "type": "surface"
           }
          ],
          "table": [
           {
            "cells": {
             "fill": {
              "color": "rgb(237,237,237)"
             },
             "line": {
              "color": "white"
             }
            },
            "header": {
             "fill": {
              "color": "rgb(217,217,217)"
             },
             "line": {
              "color": "white"
             }
            },
            "type": "table"
           }
          ]
         },
         "layout": {
          "annotationdefaults": {
           "arrowhead": 0,
           "arrowwidth": 1
          },
          "autotypenumbers": "strict",
          "coloraxis": {
           "colorbar": {
            "outlinewidth": 0,
            "tickcolor": "rgb(237,237,237)",
            "ticklen": 6,
            "ticks": "inside"
           }
          },
          "colorscale": {
           "sequential": [
            [
             0,
             "rgb(20,44,66)"
            ],
            [
             1,
             "rgb(90,179,244)"
            ]
           ],
           "sequentialminus": [
            [
             0,
             "rgb(20,44,66)"
            ],
            [
             1,
             "rgb(90,179,244)"
            ]
           ]
          },
          "colorway": [
           "#F8766D",
           "#A3A500",
           "#00BF7D",
           "#00B0F6",
           "#E76BF3"
          ],
          "font": {
           "color": "rgb(51,51,51)"
          },
          "geo": {
           "bgcolor": "white",
           "lakecolor": "white",
           "landcolor": "rgb(237,237,237)",
           "showlakes": true,
           "showland": true,
           "subunitcolor": "white"
          },
          "hoverlabel": {
           "align": "left"
          },
          "hovermode": "closest",
          "paper_bgcolor": "white",
          "plot_bgcolor": "rgb(237,237,237)",
          "polar": {
           "angularaxis": {
            "gridcolor": "white",
            "linecolor": "white",
            "showgrid": true,
            "tickcolor": "rgb(51,51,51)",
            "ticks": "outside"
           },
           "bgcolor": "rgb(237,237,237)",
           "radialaxis": {
            "gridcolor": "white",
            "linecolor": "white",
            "showgrid": true,
            "tickcolor": "rgb(51,51,51)",
            "ticks": "outside"
           }
          },
          "scene": {
           "xaxis": {
            "backgroundcolor": "rgb(237,237,237)",
            "gridcolor": "white",
            "gridwidth": 2,
            "linecolor": "white",
            "showbackground": true,
            "showgrid": true,
            "tickcolor": "rgb(51,51,51)",
            "ticks": "outside",
            "zerolinecolor": "white"
           },
           "yaxis": {
            "backgroundcolor": "rgb(237,237,237)",
            "gridcolor": "white",
            "gridwidth": 2,
            "linecolor": "white",
            "showbackground": true,
            "showgrid": true,
            "tickcolor": "rgb(51,51,51)",
            "ticks": "outside",
            "zerolinecolor": "white"
           },
           "zaxis": {
            "backgroundcolor": "rgb(237,237,237)",
            "gridcolor": "white",
            "gridwidth": 2,
            "linecolor": "white",
            "showbackground": true,
            "showgrid": true,
            "tickcolor": "rgb(51,51,51)",
            "ticks": "outside",
            "zerolinecolor": "white"
           }
          },
          "shapedefaults": {
           "fillcolor": "black",
           "line": {
            "width": 0
           },
           "opacity": 0.3
          },
          "ternary": {
           "aaxis": {
            "gridcolor": "white",
            "linecolor": "white",
            "showgrid": true,
            "tickcolor": "rgb(51,51,51)",
            "ticks": "outside"
           },
           "baxis": {
            "gridcolor": "white",
            "linecolor": "white",
            "showgrid": true,
            "tickcolor": "rgb(51,51,51)",
            "ticks": "outside"
           },
           "bgcolor": "rgb(237,237,237)",
           "caxis": {
            "gridcolor": "white",
            "linecolor": "white",
            "showgrid": true,
            "tickcolor": "rgb(51,51,51)",
            "ticks": "outside"
           }
          },
          "xaxis": {
           "automargin": true,
           "gridcolor": "white",
           "linecolor": "white",
           "showgrid": true,
           "tickcolor": "rgb(51,51,51)",
           "ticks": "outside",
           "title": {
            "standoff": 15
           },
           "zerolinecolor": "white"
          },
          "yaxis": {
           "automargin": true,
           "gridcolor": "white",
           "linecolor": "white",
           "showgrid": true,
           "tickcolor": "rgb(51,51,51)",
           "ticks": "outside",
           "title": {
            "standoff": 15
           },
           "zerolinecolor": "white"
          }
         }
        },
        "title": {
         "text": "Time of Day: Number of Positive, Negative, and Neutral Tweets",
         "x": 0.5
        }
       }
      },
      "text/html": [
       "<div>                            <div id=\"8ac82286-5cc1-4b27-9cf7-4b25ba3839d4\" class=\"plotly-graph-div\" style=\"height:525px; width:100%;\"></div>            <script type=\"text/javascript\">                require([\"plotly\"], function(Plotly) {                    window.PLOTLYENV=window.PLOTLYENV || {};                                    if (document.getElementById(\"8ac82286-5cc1-4b27-9cf7-4b25ba3839d4\")) {                    Plotly.newPlot(                        \"8ac82286-5cc1-4b27-9cf7-4b25ba3839d4\",                        [{\"hovertemplate\":\"Sentiment=Negative\\u003cbr\\u003eNumber of Tweets=%{r}\\u003cbr\\u003eHour of Day=%{theta}\\u003cextra\\u003e\\u003c\\u002fextra\\u003e\",\"legendgroup\":\"Negative\",\"line\":{\"color\":\"crimson\",\"dash\":\"solid\"},\"marker\":{\"symbol\":\"circle\"},\"mode\":\"lines\",\"name\":\"Negative\",\"r\":[216,326,472,568,610,722,731,700,616,610,615,601,641,666,691,763,743,702,543,376,268,187,197,176,216],\"showlegend\":true,\"subplot\":\"polar\",\"theta\":[\"00:00\",\"01:00\",\"02:00\",\"03:00\",\"04:00\",\"05:00\",\"06:00\",\"07:00\",\"08:00\",\"09:00\",\"10:00\",\"11:00\",\"12:00\",\"13:00\",\"14:00\",\"15:00\",\"16:00\",\"17:00\",\"18:00\",\"19:00\",\"20:00\",\"21:00\",\"22:00\",\"23:00\",\"00:00\"],\"type\":\"scatterpolar\"},{\"hovertemplate\":\"Sentiment=Neutral\\u003cbr\\u003eNumber of Tweets=%{r}\\u003cbr\\u003eHour of Day=%{theta}\\u003cextra\\u003e\\u003c\\u002fextra\\u003e\",\"legendgroup\":\"Neutral\",\"line\":{\"color\":\"royalblue\",\"dash\":\"dot\"},\"marker\":{\"symbol\":\"circle\"},\"mode\":\"lines\",\"name\":\"Neutral\",\"r\":[213,280,482,661,885,904,857,799,749,754,687,734,771,817,851,894,849,795,605,384,262,183,165,152,213],\"showlegend\":true,\"subplot\":\"polar\",\"theta\":[\"00:00\",\"01:00\",\"02:00\",\"03:00\",\"04:00\",\"05:00\",\"06:00\",\"07:00\",\"08:00\",\"09:00\",\"10:00\",\"11:00\",\"12:00\",\"13:00\",\"14:00\",\"15:00\",\"16:00\",\"17:00\",\"18:00\",\"19:00\",\"20:00\",\"21:00\",\"22:00\",\"23:00\",\"00:00\"],\"type\":\"scatterpolar\"},{\"hovertemplate\":\"Sentiment=Positive\\u003cbr\\u003eNumber of Tweets=%{r}\\u003cbr\\u003eHour of Day=%{theta}\\u003cextra\\u003e\\u003c\\u002fextra\\u003e\",\"legendgroup\":\"Positive\",\"line\":{\"color\":\"mediumseagreen\",\"dash\":\"dash\"},\"marker\":{\"symbol\":\"circle\"},\"mode\":\"lines\",\"name\":\"Positive\",\"r\":[370,514,739,1070,1164,1313,1393,1218,1132,1056,1077,1103,1096,1221,1432,1332,1229,1170,947,616,461,328,265,280,370],\"showlegend\":true,\"subplot\":\"polar\",\"theta\":[\"00:00\",\"01:00\",\"02:00\",\"03:00\",\"04:00\",\"05:00\",\"06:00\",\"07:00\",\"08:00\",\"09:00\",\"10:00\",\"11:00\",\"12:00\",\"13:00\",\"14:00\",\"15:00\",\"16:00\",\"17:00\",\"18:00\",\"19:00\",\"20:00\",\"21:00\",\"22:00\",\"23:00\",\"00:00\"],\"type\":\"scatterpolar\"}],                        {\"template\":{\"data\":{\"barpolar\":[{\"marker\":{\"line\":{\"color\":\"rgb(237,237,237)\",\"width\":0.5},\"pattern\":{\"fillmode\":\"overlay\",\"size\":10,\"solidity\":0.2}},\"type\":\"barpolar\"}],\"bar\":[{\"error_x\":{\"color\":\"rgb(51,51,51)\"},\"error_y\":{\"color\":\"rgb(51,51,51)\"},\"marker\":{\"line\":{\"color\":\"rgb(237,237,237)\",\"width\":0.5},\"pattern\":{\"fillmode\":\"overlay\",\"size\":10,\"solidity\":0.2}},\"type\":\"bar\"}],\"carpet\":[{\"aaxis\":{\"endlinecolor\":\"rgb(51,51,51)\",\"gridcolor\":\"white\",\"linecolor\":\"white\",\"minorgridcolor\":\"white\",\"startlinecolor\":\"rgb(51,51,51)\"},\"baxis\":{\"endlinecolor\":\"rgb(51,51,51)\",\"gridcolor\":\"white\",\"linecolor\":\"white\",\"minorgridcolor\":\"white\",\"startlinecolor\":\"rgb(51,51,51)\"},\"type\":\"carpet\"}],\"choropleth\":[{\"colorbar\":{\"outlinewidth\":0,\"tickcolor\":\"rgb(237,237,237)\",\"ticklen\":6,\"ticks\":\"inside\"},\"type\":\"choropleth\"}],\"contourcarpet\":[{\"colorbar\":{\"outlinewidth\":0,\"tickcolor\":\"rgb(237,237,237)\",\"ticklen\":6,\"ticks\":\"inside\"},\"type\":\"contourcarpet\"}],\"contour\":[{\"colorbar\":{\"outlinewidth\":0,\"tickcolor\":\"rgb(237,237,237)\",\"ticklen\":6,\"ticks\":\"inside\"},\"colorscale\":[[0,\"rgb(20,44,66)\"],[1,\"rgb(90,179,244)\"]],\"type\":\"contour\"}],\"heatmapgl\":[{\"colorbar\":{\"outlinewidth\":0,\"tickcolor\":\"rgb(237,237,237)\",\"ticklen\":6,\"ticks\":\"inside\"},\"colorscale\":[[0,\"rgb(20,44,66)\"],[1,\"rgb(90,179,244)\"]],\"type\":\"heatmapgl\"}],\"heatmap\":[{\"colorbar\":{\"outlinewidth\":0,\"tickcolor\":\"rgb(237,237,237)\",\"ticklen\":6,\"ticks\":\"inside\"},\"colorscale\":[[0,\"rgb(20,44,66)\"],[1,\"rgb(90,179,244)\"]],\"type\":\"heatmap\"}],\"histogram2dcontour\":[{\"colorbar\":{\"outlinewidth\":0,\"tickcolor\":\"rgb(237,237,237)\",\"ticklen\":6,\"ticks\":\"inside\"},\"colorscale\":[[0,\"rgb(20,44,66)\"],[1,\"rgb(90,179,244)\"]],\"type\":\"histogram2dcontour\"}],\"histogram2d\":[{\"colorbar\":{\"outlinewidth\":0,\"tickcolor\":\"rgb(237,237,237)\",\"ticklen\":6,\"ticks\":\"inside\"},\"colorscale\":[[0,\"rgb(20,44,66)\"],[1,\"rgb(90,179,244)\"]],\"type\":\"histogram2d\"}],\"histogram\":[{\"marker\":{\"pattern\":{\"fillmode\":\"overlay\",\"size\":10,\"solidity\":0.2}},\"type\":\"histogram\"}],\"mesh3d\":[{\"colorbar\":{\"outlinewidth\":0,\"tickcolor\":\"rgb(237,237,237)\",\"ticklen\":6,\"ticks\":\"inside\"},\"type\":\"mesh3d\"}],\"parcoords\":[{\"line\":{\"colorbar\":{\"outlinewidth\":0,\"tickcolor\":\"rgb(237,237,237)\",\"ticklen\":6,\"ticks\":\"inside\"}},\"type\":\"parcoords\"}],\"pie\":[{\"automargin\":true,\"type\":\"pie\"}],\"scatter3d\":[{\"line\":{\"colorbar\":{\"outlinewidth\":0,\"tickcolor\":\"rgb(237,237,237)\",\"ticklen\":6,\"ticks\":\"inside\"}},\"marker\":{\"colorbar\":{\"outlinewidth\":0,\"tickcolor\":\"rgb(237,237,237)\",\"ticklen\":6,\"ticks\":\"inside\"}},\"type\":\"scatter3d\"}],\"scattercarpet\":[{\"marker\":{\"colorbar\":{\"outlinewidth\":0,\"tickcolor\":\"rgb(237,237,237)\",\"ticklen\":6,\"ticks\":\"inside\"}},\"type\":\"scattercarpet\"}],\"scattergeo\":[{\"marker\":{\"colorbar\":{\"outlinewidth\":0,\"tickcolor\":\"rgb(237,237,237)\",\"ticklen\":6,\"ticks\":\"inside\"}},\"type\":\"scattergeo\"}],\"scattergl\":[{\"marker\":{\"colorbar\":{\"outlinewidth\":0,\"tickcolor\":\"rgb(237,237,237)\",\"ticklen\":6,\"ticks\":\"inside\"}},\"type\":\"scattergl\"}],\"scattermapbox\":[{\"marker\":{\"colorbar\":{\"outlinewidth\":0,\"tickcolor\":\"rgb(237,237,237)\",\"ticklen\":6,\"ticks\":\"inside\"}},\"type\":\"scattermapbox\"}],\"scatterpolargl\":[{\"marker\":{\"colorbar\":{\"outlinewidth\":0,\"tickcolor\":\"rgb(237,237,237)\",\"ticklen\":6,\"ticks\":\"inside\"}},\"type\":\"scatterpolargl\"}],\"scatterpolar\":[{\"marker\":{\"colorbar\":{\"outlinewidth\":0,\"tickcolor\":\"rgb(237,237,237)\",\"ticklen\":6,\"ticks\":\"inside\"}},\"type\":\"scatterpolar\"}],\"scatter\":[{\"fillpattern\":{\"fillmode\":\"overlay\",\"size\":10,\"solidity\":0.2},\"type\":\"scatter\"}],\"scatterternary\":[{\"marker\":{\"colorbar\":{\"outlinewidth\":0,\"tickcolor\":\"rgb(237,237,237)\",\"ticklen\":6,\"ticks\":\"inside\"}},\"type\":\"scatterternary\"}],\"surface\":[{\"colorbar\":{\"outlinewidth\":0,\"tickcolor\":\"rgb(237,237,237)\",\"ticklen\":6,\"ticks\":\"inside\"},\"colorscale\":[[0,\"rgb(20,44,66)\"],[1,\"rgb(90,179,244)\"]],\"type\":\"surface\"}],\"table\":[{\"cells\":{\"fill\":{\"color\":\"rgb(237,237,237)\"},\"line\":{\"color\":\"white\"}},\"header\":{\"fill\":{\"color\":\"rgb(217,217,217)\"},\"line\":{\"color\":\"white\"}},\"type\":\"table\"}]},\"layout\":{\"annotationdefaults\":{\"arrowhead\":0,\"arrowwidth\":1},\"autotypenumbers\":\"strict\",\"coloraxis\":{\"colorbar\":{\"outlinewidth\":0,\"tickcolor\":\"rgb(237,237,237)\",\"ticklen\":6,\"ticks\":\"inside\"}},\"colorscale\":{\"sequential\":[[0,\"rgb(20,44,66)\"],[1,\"rgb(90,179,244)\"]],\"sequentialminus\":[[0,\"rgb(20,44,66)\"],[1,\"rgb(90,179,244)\"]]},\"colorway\":[\"#F8766D\",\"#A3A500\",\"#00BF7D\",\"#00B0F6\",\"#E76BF3\"],\"font\":{\"color\":\"rgb(51,51,51)\"},\"geo\":{\"bgcolor\":\"white\",\"lakecolor\":\"white\",\"landcolor\":\"rgb(237,237,237)\",\"showlakes\":true,\"showland\":true,\"subunitcolor\":\"white\"},\"hoverlabel\":{\"align\":\"left\"},\"hovermode\":\"closest\",\"paper_bgcolor\":\"white\",\"plot_bgcolor\":\"rgb(237,237,237)\",\"polar\":{\"angularaxis\":{\"gridcolor\":\"white\",\"linecolor\":\"white\",\"showgrid\":true,\"tickcolor\":\"rgb(51,51,51)\",\"ticks\":\"outside\"},\"bgcolor\":\"rgb(237,237,237)\",\"radialaxis\":{\"gridcolor\":\"white\",\"linecolor\":\"white\",\"showgrid\":true,\"tickcolor\":\"rgb(51,51,51)\",\"ticks\":\"outside\"}},\"scene\":{\"xaxis\":{\"backgroundcolor\":\"rgb(237,237,237)\",\"gridcolor\":\"white\",\"gridwidth\":2,\"linecolor\":\"white\",\"showbackground\":true,\"showgrid\":true,\"tickcolor\":\"rgb(51,51,51)\",\"ticks\":\"outside\",\"zerolinecolor\":\"white\"},\"yaxis\":{\"backgroundcolor\":\"rgb(237,237,237)\",\"gridcolor\":\"white\",\"gridwidth\":2,\"linecolor\":\"white\",\"showbackground\":true,\"showgrid\":true,\"tickcolor\":\"rgb(51,51,51)\",\"ticks\":\"outside\",\"zerolinecolor\":\"white\"},\"zaxis\":{\"backgroundcolor\":\"rgb(237,237,237)\",\"gridcolor\":\"white\",\"gridwidth\":2,\"linecolor\":\"white\",\"showbackground\":true,\"showgrid\":true,\"tickcolor\":\"rgb(51,51,51)\",\"ticks\":\"outside\",\"zerolinecolor\":\"white\"}},\"shapedefaults\":{\"fillcolor\":\"black\",\"line\":{\"width\":0},\"opacity\":0.3},\"ternary\":{\"aaxis\":{\"gridcolor\":\"white\",\"linecolor\":\"white\",\"showgrid\":true,\"tickcolor\":\"rgb(51,51,51)\",\"ticks\":\"outside\"},\"baxis\":{\"gridcolor\":\"white\",\"linecolor\":\"white\",\"showgrid\":true,\"tickcolor\":\"rgb(51,51,51)\",\"ticks\":\"outside\"},\"bgcolor\":\"rgb(237,237,237)\",\"caxis\":{\"gridcolor\":\"white\",\"linecolor\":\"white\",\"showgrid\":true,\"tickcolor\":\"rgb(51,51,51)\",\"ticks\":\"outside\"}},\"xaxis\":{\"automargin\":true,\"gridcolor\":\"white\",\"linecolor\":\"white\",\"showgrid\":true,\"tickcolor\":\"rgb(51,51,51)\",\"ticks\":\"outside\",\"title\":{\"standoff\":15},\"zerolinecolor\":\"white\"},\"yaxis\":{\"automargin\":true,\"gridcolor\":\"white\",\"linecolor\":\"white\",\"showgrid\":true,\"tickcolor\":\"rgb(51,51,51)\",\"ticks\":\"outside\",\"title\":{\"standoff\":15},\"zerolinecolor\":\"white\"}}},\"polar\":{\"domain\":{\"x\":[0.0,1.0],\"y\":[0.0,1.0]},\"angularaxis\":{\"direction\":\"clockwise\",\"rotation\":90}},\"legend\":{\"title\":{\"text\":\"Sentiment\"},\"tracegroupgap\":0},\"margin\":{\"t\":60},\"title\":{\"text\":\"Time of Day: Number of Positive, Negative, and Neutral Tweets\",\"x\":0.5}},                        {\"responsive\": true}                    ).then(function(){\n",
       "                            \n",
       "var gd = document.getElementById('8ac82286-5cc1-4b27-9cf7-4b25ba3839d4');\n",
       "var x = new MutationObserver(function (mutations, observer) {{\n",
       "        var display = window.getComputedStyle(gd).display;\n",
       "        if (!display || display === 'none') {{\n",
       "            console.log([gd, 'removed!']);\n",
       "            Plotly.purge(gd);\n",
       "            observer.disconnect();\n",
       "        }}\n",
       "}});\n",
       "\n",
       "// Listen for the removal of the full notebook cells\n",
       "var notebookContainer = gd.closest('#notebook-container');\n",
       "if (notebookContainer) {{\n",
       "    x.observe(notebookContainer, {childList: true});\n",
       "}}\n",
       "\n",
       "// Listen for the clearing of the current output cell\n",
       "var outputEl = gd.closest('.output');\n",
       "if (outputEl) {{\n",
       "    x.observe(outputEl, {childList: true});\n",
       "}}\n",
       "\n",
       "                        })                };                });            </script>        </div>"
      ]
     },
     "metadata": {},
     "output_type": "display_data"
    }
   ],
   "source": [
    "def format_hour(h: int):\n",
    "    h = str(h)\n",
    "    if len(h) == 1:\n",
    "        h = '0' + h\n",
    "    h = h + \":00\"\n",
    "    return h\n",
    "\n",
    "sentiment_hourly = poli_data.groupby(['Sentiment', 'hour'])['Tweet'].count()\n",
    "sentiment_hourly = pd.DataFrame(sentiment_hourly).reset_index()\n",
    "sentiment_hourly.columns = ['Sentiment', 'Hour of Day', 'Number of Tweets']\n",
    "sentiment_hourly['Hour of Day'] = sentiment_hourly['Hour of Day'].apply(format_hour)\n",
    "\n",
    "fig = px.line_polar(\n",
    "    data_frame=sentiment_hourly,\n",
    "    r=sentiment_hourly['Number of Tweets'],\n",
    "    theta='Hour of Day',\n",
    "    line_close=True,\n",
    "    color='Sentiment',\n",
    "    color_discrete_sequence=['crimson', 'royalblue', 'mediumseagreen'],\n",
    "    line_dash='Sentiment'\n",
    ")\n",
    "fig.update_layout(\n",
    "    title=\"Time of Day: Number of Positive, Negative, and Neutral Tweets\",\n",
    "    title_x=0.5,\n",
    "    template=\"ggplot2\"\n",
    ")\n",
    "fig.show()"
   ]
  },
  {
   "cell_type": "code",
   "execution_count": 51,
   "id": "1c8ab618",
   "metadata": {},
   "outputs": [
    {
     "data": {
      "image/png": "[encoded data removed]",
      "text/plain": [
       "<Figure size 864x432 with 1 Axes>"
      ]
     },
     "metadata": {
      "needs_background": "light"
     },
     "output_type": "display_data"
    }
   ],
   "source": [
    "def format_hour(h: int):\n",
    "    h = str(h)\n",
    "    if len(h) == 1:\n",
    "        h = '0' + h\n",
    "    h = h + \":00\"\n",
    "    return h\n",
    "\n",
    "sentiment_hourly = poli_data.groupby(['Sentiment', 'hour'])['Tweet'].count().reset_index()\n",
    "sentiment_hourly.columns = ['Sentiment', 'Hour of Day', 'Number of Tweets']\n",
    "sentiment_hourly['Hour of Day'] = sentiment_hourly['Hour of Day'].apply(format_hour)\n",
    "\n",
    "plt.figure(figsize=(12, 6))\n",
    "sns.barplot(\n",
    "    data=sentiment_hourly,\n",
    "    x='Hour of Day',\n",
    "    y='Number of Tweets',\n",
    "    hue='Sentiment',\n",
    "    palette=['crimson', 'royalblue', 'mediumseagreen']\n",
    ")\n",
    "plt.title(\"Time of Day: Number of Positive, Negative, and Neutral Tweets\")\n",
    "plt.xlabel(\"Hour of Day\")\n",
    "plt.ylabel(\"Number of Tweets\")\n",
    "plt.show()"
   ]
  },
  {
   "cell_type": "markdown",
   "id": "91e89b38",
   "metadata": {},
   "source": [
    "## The above graphs shows us the activity of different people"
   ]
  },
  {
   "cell_type": "code",
   "execution_count": null,
   "id": "74b1d72a",
   "metadata": {},
   "outputs": [],
   "source": []
  }
 ],
 "metadata": {
  "kernelspec": {
   "display_name": "Python 3 (ipykernel)",
   "language": "python",
   "name": "python3"
  },
  "language_info": {
   "codemirror_mode": {
    "name": "ipython",
    "version": 3
   },
   "file_extension": ".py",
   "mimetype": "text/x-python",
   "name": "python",
   "nbconvert_exporter": "python",
   "pygments_lexer": "ipython3",
   "version": "3.9.7"
  }
 },
 "nbformat": 4,
 "nbformat_minor": 5
}
